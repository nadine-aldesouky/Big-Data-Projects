{
 "cells": [
  {
   "cell_type": "markdown",
   "metadata": {},
   "source": [
    "# Big Data Modeling and Management Assigment\n",
    "\n",
    "\n",
    "## 🍺 The Beer project  🍺 \n",
    "\n",
    "As it was shown in classes, graph databases are a natural way of navegating distinct types of data. For this first project we will be taking a graph database to analyse beer and breweries!   \n",
    "\n",
    "_For reference the dataset used for this project has been extracted from [kaggle](https://www.kaggle.com/ehallmar/beers-breweries-and-beer-reviews), released by Evan Hallmark. Even though the author does not present metada on the origin of the data it is probably a collection of open data from places like [beeradvocate](https://www.beeradvocate.com/)_ \n",
    "\n",
    "#### Problem description\n",
    "\n",
    "Explore the database via python neo4j connector and/or the graphical tool in the NEO4J webpage. Answer the questions. Submit the results by following the instructions\n",
    "\n",
    "#### Connection details to the neo4j database\n",
    "```\n",
    "Host: rhea.isegi.unl.pt:7474  \n",
    "Username: neo4j  \n",
    "Password: F3cfcrnvBev57KZ8mcMk78L9wHgJVZuJ \n",
    "Connect URL : bolt://rhea.isegi.unl.pt:7687\n",
    "```\n",
    "\n",
    "\n",
    "#### Questions\n",
    "\n",
    "\n",
    "0. __Example Question__ _How many beers does the database contain?_\n",
    "1. How many different countries exist in the database?\n",
    "1. Most reviews:  \n",
    "    1. Which `Beer` has the most reviews?  \n",
    "    1. Which `Brewery` has the most reviews for its beers?\n",
    "    1. Which `Country` has the most reviews for its beers? \n",
    "1. Find the user/users that have the most shared reviews (reviews of the same beers) with the user CTJman?\n",
    "1. Which Portuguese brewery has the most beers?\n",
    "1. From those beers (the ones returned from the previous question), which has the most reviews?\n",
    "1. On average how many different beer styles does each brewery produce?\n",
    "1. Which brewery produces the strongest beers according to ABV?\n",
    "1. If I typically enjoy a beer due to its aroma and appearance, which beer style should I try?\n",
    "1. Using Graph Algorithms answer **two** of the following questions:\n",
    "    1. Which two Countries are most similiar when it comes to their **top 10** most produced Beer styles?\n",
    "    1. Which beer has the most similar reviews as the beer `Super Bock Stout`?\n",
    "    1. Which user is the most influential when it comes to reviews made?\n",
    "    1. Which beer styles are more central when it comes the amount of beers? \\\n",
    "    Note: In case of a tie for the top entity, in terms of metrics outputed from the algorithms, **simply output the first.**\n",
    "1. If you had to pick 3 beers to recommend using only this database, which would you pick and why?\n",
    "\n",
    "\n",
    "\n",
    " Questions 8 to 10 are somewhat open, which means we'll also be evaluating the reasoning behind your answer. So there aren't necessarily bad results there are only wrong criteria, explanations or execution. \n",
    " \n",
    "##### Groups  \n",
    "\n",
    "Groups should have 4 to 5 people  \n",
    "You should register your group on moodle. An email will be going out to everyone with the credentials for the database to use when storing the results.\n",
    "\n",
    "\n",
    "##### Submission      \n",
    "\n",
    "Submission of the query results to be done to the group's redis database (explained on the first class, credentials sent via email).  \n",
    "The following format is expected:\n",
    "```\n",
    "    >>> redis.set(\"0\", \"358873\")\n",
    "```\n",
    "\n",
    "This result should be the anwser of the group to question 0\n",
    "\n",
    "The code used to produce the results and respective explations should be uploaded to moodle. They should have a clear reference to the group, either on the file name or on the document itself. Preferably one Jupyter notebook per group.\n",
    "\n",
    "Delivery date: Until the **midnight of May 2nd**\n",
    "\n",
    "##### Evaluation   \n",
    "\n",
    "This will be 20% of the final grade.   \n",
    "Each solution will be evaluated on 2 components: correctness of results and simplicity of the solution.  \n",
    "All code will go through plagiarism automated checks. Groups with the same code will undergo investigation.\n",
    "\n",
    "**Note:**\n",
    "Remember the Neo4j is a shared database and when creating in-memory graphs please use your group's prefix.  \n",
    "Ex. Instead of `my-graph` as the name of your graph please use `group0-my-graph`."
   ]
  },
  {
   "cell_type": "code",
   "execution_count": 1,
   "metadata": {},
   "outputs": [
    {
     "data": {
      "text/plain": [
       "[{'count(*)': 9647598}]"
      ]
     },
     "execution_count": 1,
     "metadata": {},
     "output_type": "execute_result"
    }
   ],
   "source": [
    "import py2neo\n",
    "\n",
    "username=\"neo4j\"\n",
    "password=\"F3cfcrnvBev57KZ8mcMk78L9wHgJVZuJ\"\n",
    "host=\"rhea.isegi.unl.pt\"\n",
    "port=\"7474\"\n",
    "\n",
    "group22_graph = py2neo.Graph(f\"http://{username}:{password}@{host}:{port}\")\n",
    "group22_graph.run(\"MATCH (u) RETURN count(*)\").data()"
   ]
  },
  {
   "cell_type": "code",
   "execution_count": 2,
   "metadata": {},
   "outputs": [
    {
     "data": {
      "text/plain": [
       "[{'label': 'Breweries'},\n",
       " {'label': 'Country'},\n",
       " {'label': 'Beers'},\n",
       " {'label': 'Reviews'},\n",
       " {'label': 'Username'},\n",
       " {'label': 'Style'},\n",
       " {'label': 'TODELETE'}]"
      ]
     },
     "execution_count": 2,
     "metadata": {},
     "output_type": "execute_result"
    }
   ],
   "source": [
    "group22_graph.run(\n",
    "    \"\"\"\n",
    "      CALL db.labels()\n",
    "    \"\"\"\n",
    ").data()"
   ]
  },
  {
   "cell_type": "code",
   "execution_count": 3,
   "metadata": {},
   "outputs": [
    {
     "data": {
      "text/plain": [
       "[{'relationshipType': 'FROM'},\n",
       " {'relationshipType': 'BREWED_AT'},\n",
       " {'relationshipType': 'MADE'},\n",
       " {'relationshipType': 'ABOUT'},\n",
       " {'relationshipType': 'OF_TYPE'}]"
      ]
     },
     "execution_count": 3,
     "metadata": {},
     "output_type": "execute_result"
    }
   ],
   "source": [
    "group22_graph.run(\n",
    "    \"\"\"\n",
    "      CALL db.relationshipTypes()\n",
    "    \"\"\"\n",
    ").data()"
   ]
  },
  {
   "cell_type": "markdown",
   "metadata": {},
   "source": [
    "## Question 1"
   ]
  },
  {
   "cell_type": "markdown",
   "metadata": {},
   "source": [
    "How many different countries exist in the database?\n"
   ]
  },
  {
   "cell_type": "code",
   "execution_count": 4,
   "metadata": {},
   "outputs": [
    {
     "data": {
      "text/plain": [
       "[{'NumOfCountries': 200}]"
      ]
     },
     "execution_count": 4,
     "metadata": {},
     "output_type": "execute_result"
    }
   ],
   "source": [
    "result1 = group22_graph.run(\"\"\"\n",
    "        MATCH (c:Country)\n",
    "        RETURN count(c) as NumOfCountries\n",
    "\"\"\").data()\n",
    "result1"
   ]
  },
  {
   "cell_type": "markdown",
   "metadata": {},
   "source": [
    "## Question 2"
   ]
  },
  {
   "cell_type": "markdown",
   "metadata": {},
   "source": [
    "Most reviews:"
   ]
  },
  {
   "cell_type": "markdown",
   "metadata": {},
   "source": [
    "2.A. Which Beer has the most reviews?"
   ]
  },
  {
   "cell_type": "code",
   "execution_count": 5,
   "metadata": {},
   "outputs": [
    {
     "data": {
      "text/plain": [
       "[{'Beer': 'IPA', 'NumOfReviews': 31387}]"
      ]
     },
     "execution_count": 5,
     "metadata": {},
     "output_type": "execute_result"
    }
   ],
   "source": [
    "# 2.A. \n",
    "result2a = group22_graph.run(\"\"\"\n",
    "        MATCH (:Reviews)-[]-(b:Beers) //there is only one relationship between these node labels so its ok to leave it undefined//\n",
    "        RETURN b.name as Beer, COUNT(*) as NumOfReviews\n",
    "        ORDER BY NumOfReviews DESC \n",
    "        LIMIT 1\n",
    "\"\"\").data()\n",
    "result2a"
   ]
  },
  {
   "cell_type": "markdown",
   "metadata": {},
   "source": [
    "2.B. Which Brewery has the most reviews for its beers?"
   ]
  },
  {
   "cell_type": "code",
   "execution_count": 16,
   "metadata": {},
   "outputs": [
    {
     "data": {
      "text/plain": [
       "[{'Brewery': 'Sierra Nevada Brewing Co.', 'NumOfReviews': 175161}]"
      ]
     },
     "execution_count": 16,
     "metadata": {},
     "output_type": "execute_result"
    }
   ],
   "source": [
    "# 2.B.\n",
    "result2b = group22_graph.run(\"\"\"\n",
    "        MATCH (:Reviews)-[]-(:Beers)-[]-(br:Breweries)\n",
    "        RETURN br.name as Brewery, COUNT(*) as NumOfReviews\n",
    "        ORDER BY NumOfReviews DESC \n",
    "        LIMIT 1\n",
    "\"\"\").data()\n",
    "result2b"
   ]
  },
  {
   "cell_type": "markdown",
   "metadata": {},
   "source": [
    "2.C Which Country has the most reviews for its beers?"
   ]
  },
  {
   "cell_type": "code",
   "execution_count": 14,
   "metadata": {},
   "outputs": [
    {
     "data": {
      "text/plain": [
       "[{'Country': None, 'NumOfReviews': 9072914}]"
      ]
     },
     "execution_count": 14,
     "metadata": {},
     "output_type": "execute_result"
    }
   ],
   "source": [
    "# 2.C\n",
    "result2c = group22_graph.run(\"\"\"\n",
    "        MATCH (:Reviews)-[]-(:Beers)-[]-(br:Breweries)-[]-(c:Country)\n",
    "        RETURN c.name as Country, COUNT(*) as NumOfReviews\n",
    "        ORDER BY NumOfReviews DESC \n",
    "        LIMIT 1\n",
    "\"\"\").data()\n",
    "result2c"
   ]
  },
  {
   "cell_type": "markdown",
   "metadata": {},
   "source": [
    "## Question 3"
   ]
  },
  {
   "cell_type": "markdown",
   "metadata": {},
   "source": [
    "Find the user/users that have the most shared reviews (reviews of the same beers) with the user CTJman?"
   ]
  },
  {
   "cell_type": "code",
   "execution_count": 2,
   "metadata": {},
   "outputs": [
    {
     "data": {
      "text/plain": [
       "[{'u.user_name': 'acurtis', 'NumOfReviews': 1428}]"
      ]
     },
     "execution_count": 2,
     "metadata": {},
     "output_type": "execute_result"
    }
   ],
   "source": [
    "result3 = group22_graph.run(\"\"\"\n",
    "        MATCH (u:Username)-[]-(:Reviews)-[]-(b:Beers)<-[]-(:Reviews)<-[]-(uCTJman:Username{user_name:'CTJman'})\n",
    "        RETURN u.user_name, count(*) as NumOfReviews\n",
    "        ORDER BY NumOfReviews DESC \n",
    "        LIMIT 1\n",
    "\"\"\").data()\n",
    "result3"
   ]
  },
  {
   "cell_type": "markdown",
   "metadata": {},
   "source": [
    "## Question 4"
   ]
  },
  {
   "cell_type": "markdown",
   "metadata": {},
   "source": [
    "Which Portuguese brewery has the most beers?"
   ]
  },
  {
   "cell_type": "code",
   "execution_count": 17,
   "metadata": {},
   "outputs": [
    {
     "data": {
      "text/plain": [
       "[{'Brewery': 'Dois Corvos Cervejeira', 'NumOfBeers': 40}]"
      ]
     },
     "execution_count": 17,
     "metadata": {},
     "output_type": "execute_result"
    }
   ],
   "source": [
    "result4 = group22_graph.run(\"\"\"\n",
    "        MATCH (:Beers)-[]-(bw:Breweries)-[]-(:Country{country_digit:'PT'})\n",
    "        RETURN bw.name as Brewery, count(*) as NumOfBeers\n",
    "        ORDER BY NumOfBeers DESC\n",
    "        LIMIT 1\n",
    "\"\"\").data()\n",
    "result4   "
   ]
  },
  {
   "cell_type": "markdown",
   "metadata": {},
   "source": [
    "## Question 5"
   ]
  },
  {
   "cell_type": "markdown",
   "metadata": {},
   "source": [
    "From those beers (the ones returned from the previous question), which has the most reviews?"
   ]
  },
  {
   "cell_type": "code",
   "execution_count": 19,
   "metadata": {},
   "outputs": [
    {
     "data": {
      "text/plain": [
       "[{'Beer': 'Finisterra', 'NumOfReviews': 10}]"
      ]
     },
     "execution_count": 19,
     "metadata": {},
     "output_type": "execute_result"
    }
   ],
   "source": [
    "result5 = group22_graph.run(\"\"\"\n",
    "        MATCH (:Username)-[]-(:Reviews)-[]-(b:Beers)-[]-(:Breweries{name:'Dois Corvos Cervejeira'})\n",
    "        RETURN b.name as Beer, count(*) as NumOfReviews\n",
    "        ORDER BY NumOfReviews DESC\n",
    "        LIMIT 1\n",
    "\"\"\").data()\n",
    "result5"
   ]
  },
  {
   "cell_type": "markdown",
   "metadata": {},
   "source": [
    "## Question 6\n",
    "On average how many different beer styles does each brewery produce?"
   ]
  },
  {
   "cell_type": "code",
   "execution_count": 6,
   "metadata": {},
   "outputs": [
    {
     "data": {
      "text/plain": [
       "[{'AVGStylePerBrewery': 10.669977315921736}]"
      ]
     },
     "execution_count": 6,
     "metadata": {},
     "output_type": "execute_result"
    }
   ],
   "source": [
    "result6 = group22_graph.run(f\"\"\"\n",
    "    MATCH (s:Style)-[]-(:Beers)-[]-(bw:Breweries)\n",
    "    WITH bw.name as Brewery, count(distinct(s)) as numdiffstyle\n",
    "    RETURN avg(numdiffstyle) as AVGStylePerBrewery\n",
    "\"\"\").data()\n",
    "result6"
   ]
  },
  {
   "cell_type": "markdown",
   "metadata": {},
   "source": [
    "## Question 7\n",
    "Which brewery produces the strongest beers according to ABV?\n"
   ]
  },
  {
   "cell_type": "code",
   "execution_count": 32,
   "metadata": {},
   "outputs": [
    {
     "data": {
      "text/plain": [
       "[{'Brewery': '1648 Brewing Company Ltd', 'MeanABV': 25.57777777777778}]"
      ]
     },
     "execution_count": 32,
     "metadata": {},
     "output_type": "execute_result"
    }
   ],
   "source": [
    "result7 = group22_graph.run(f\"\"\"\n",
    "    MATCH (b:Beers)-[]-(bw:Breweries)\n",
    "    WHERE b.abv <> 'Unknown'\n",
    "    RETURN bw.name as Brewery, avg(toFloat(b.abv)) as MeanABV\n",
    "    ORDER BY MeanABV DESC\n",
    "    LIMIT 1 \n",
    "\"\"\").data()\n",
    "result7"
   ]
  },
  {
   "cell_type": "markdown",
   "metadata": {},
   "source": [
    "## Question 8\n",
    "If I typically enjoy a beer due to its aroma and appearance, which beer style should I try?"
   ]
  },
  {
   "cell_type": "code",
   "execution_count": null,
   "metadata": {},
   "outputs": [],
   "source": [
    "# Look for beers with taste and look equal to 5 \n",
    "result8 = group22_graph.run(\"\"\"\n",
    "    MATCH (r:Reviews)-[]-(:Beers)-[]-(s:Style)\n",
    "    WHERE r.taste='5' and r.look='5'\n",
    "    RETURN s.name, r.taste, r.look, count(*) as NumOfReviews\n",
    "    ORDER BY NumOfReviews DESC\n",
    "    LIMIT 1\n",
    "\"\"\").data()\n",
    "result8"
   ]
  },
  {
   "cell_type": "code",
   "execution_count": null,
   "metadata": {},
   "outputs": [],
   "source": []
  },
  {
   "cell_type": "markdown",
   "metadata": {},
   "source": [
    "## Question 9\n",
    "Using Graph Algorithms answer the questions: A and D"
   ]
  },
  {
   "cell_type": "markdown",
   "metadata": {},
   "source": [
    "9.A.Which Countries are most similiar when it comes to the most produced Beer styles"
   ]
  },
  {
   "cell_type": "code",
   "execution_count": 8,
   "metadata": {},
   "outputs": [
    {
     "data": {
      "text/plain": [
       "[{'graphName': 'beer-graphs-022-9a', 'exists': False}]"
      ]
     },
     "execution_count": 8,
     "metadata": {},
     "output_type": "execute_result"
    }
   ],
   "source": [
    "# Confirm if graph already exists\n",
    "graph_exists = group22_graph.run(\"\"\"\n",
    "        CALL gds.graph.exists('beer-graphs-022-9a')\n",
    "\"\"\").data()\n",
    "graph_exists"
   ]
  },
  {
   "cell_type": "code",
   "execution_count": 9,
   "metadata": {},
   "outputs": [],
   "source": [
    "# Cypher Projection - Amount of produced Beers Styles by Country\n",
    "graph9a = group22_graph.run(\"\"\"\n",
    "    CALL gds.graph.create.cypher(\n",
    "    'beer-graphs-022-9a',\n",
    "    'MATCH (c:Country) RETURN id(c) as id UNION ALL MATCH (s:Style) RETURN id(s) as id',\n",
    "    'MATCH (c:Country)<-[]-(bw1:Breweries)<-[]-(b1:Beers)-[]->(s:Style) WITH c as country, s as style, count(*) as timesforstyle ORDER BY timesforstyle DESC WITH country, collect(style)[..10] as top_10 UNWIND top_10 as u_top_10 RETURN id(country) AS source, id(u_top_10) AS target')\n",
    "\"\"\").data()\n",
    "graph9a"
   ]
  },
  {
   "cell_type": "code",
   "execution_count": 10,
   "metadata": {},
   "outputs": [
    {
     "data": {
      "text/plain": [
       "[{'Country1': 'TD', 'Country2': 'TJ', 'similarity': 1.0},\n",
       " {'Country1': 'TD', 'Country2': 'CF', 'similarity': 1.0},\n",
       " {'Country1': 'TD', 'Country2': 'ST', 'similarity': 1.0},\n",
       " {'Country1': 'TD', 'Country2': 'YT', 'similarity': 1.0},\n",
       " {'Country1': 'TD', 'Country2': 'BF', 'similarity': 1.0},\n",
       " {'Country1': 'TD', 'Country2': 'AO', 'similarity': 1.0},\n",
       " {'Country1': 'IR', 'Country2': 'LY', 'similarity': 1.0},\n",
       " {'Country1': 'IR', 'Country2': 'BW', 'similarity': 1.0},\n",
       " {'Country1': 'TD', 'Country2': 'SN', 'similarity': 1.0},\n",
       " {'Country1': 'TD', 'Country2': 'MO', 'similarity': 1.0}]"
      ]
     },
     "execution_count": 10,
     "metadata": {},
     "output_type": "execute_result"
    }
   ],
   "source": [
    "# Stream results of the similarity algorithm\n",
    "result9a = group22_graph.run(\"\"\"\n",
    "        CALL gds.nodeSimilarity.stream('beer-graphs-022-9a')\n",
    "        YIELD node1, node2, similarity\n",
    "        RETURN gds.util.asNode(node1).country_digit AS Country1, gds.util.asNode(node2).country_digit AS Country2, similarity\n",
    "        ORDER BY similarity DESC\n",
    "        LIMIT 10\n",
    "\"\"\").data()\n",
    "result9a"
   ]
  },
  {
   "cell_type": "markdown",
   "metadata": {},
   "source": [
    "9.D. Which beer styles are more central when it comes the amount of beers?"
   ]
  },
  {
   "cell_type": "code",
   "execution_count": 8,
   "metadata": {},
   "outputs": [
    {
     "data": {
      "text/plain": [
       "[{'graphName': 'beerstyles-graphs-022-9d', 'exists': False}]"
      ]
     },
     "execution_count": 8,
     "metadata": {},
     "output_type": "execute_result"
    }
   ],
   "source": [
    "# Confirm if graph already exists\n",
    "graph_exists = group22_graph.run(\"\"\"\n",
    "        CALL gds.graph.exists('beerstyles-graphs-022-9d')\n",
    "\"\"\").data()\n",
    "graph_exists"
   ]
  },
  {
   "cell_type": "code",
   "execution_count": null,
   "metadata": {},
   "outputs": [],
   "source": [
    "# Cypher Projection - Amount of beers by Beer Style\n",
    "graph9d = group22_graph.run(\"\"\"\n",
    "    CALL gds.graph.create.cypher(\n",
    "    'beerstyles-graphs-022-9d',\n",
    "    'MATCH (bs:Style) RETURN id(bs) as id UNION ALL MATCH (b:Beers) RETURN id(b) as id',\n",
    "    'MATCH (bs:Style)<-[]-(b:Beers) WITH bs as style, b as beer, count(*) as timesforstyle ORDER BY timesforstyle DESC WITH style, collect(beer)[..10] as top_10 UNWIND top_10 as u_top_10 RETURN id(style) AS source, id(u_top_10) AS target')\n",
    "\"\"\").data()\n",
    "graph9d"
   ]
  },
  {
   "cell_type": "code",
   "execution_count": 10,
   "metadata": {},
   "outputs": [
    {
     "data": {
      "text/plain": [
       "[{'Country1': 'TD', 'Country2': 'TJ', 'similarity': 1.0},\n",
       " {'Country1': 'TD', 'Country2': 'CF', 'similarity': 1.0},\n",
       " {'Country1': 'TD', 'Country2': 'ST', 'similarity': 1.0},\n",
       " {'Country1': 'TD', 'Country2': 'YT', 'similarity': 1.0},\n",
       " {'Country1': 'TD', 'Country2': 'BF', 'similarity': 1.0},\n",
       " {'Country1': 'TD', 'Country2': 'AO', 'similarity': 1.0},\n",
       " {'Country1': 'IR', 'Country2': 'LY', 'similarity': 1.0},\n",
       " {'Country1': 'IR', 'Country2': 'BW', 'similarity': 1.0},\n",
       " {'Country1': 'TD', 'Country2': 'SN', 'similarity': 1.0},\n",
       " {'Country1': 'TD', 'Country2': 'MO', 'similarity': 1.0}]"
      ]
     },
     "execution_count": 10,
     "metadata": {},
     "output_type": "execute_result"
    }
   ],
   "source": [
    "# Stream results of the centrality algorithm using PageRank\n",
    "result9d = group22_graph.run(\"\"\"\n",
    "        CALL gds.pageRank.stream('beerstyles-graphs-022-9d')\n",
    "        YIELD nodeId, score\n",
    "        RETURN gds.util.asNode(nodeId).name AS Beer_Style, score\n",
    "        ORDER BY score DESC\n",
    "        LIMIT 3\n",
    "\"\"\").data()\n",
    "result9d"
   ]
  },
  {
   "cell_type": "markdown",
   "metadata": {},
   "source": [
    "## Question 10\n",
    "If you had to pick 3 beers to recommend using only this database, which would you pick and why?"
   ]
  },
  {
   "cell_type": "code",
   "execution_count": 13,
   "metadata": {},
   "outputs": [
    {
     "data": {
      "text/plain": [
       "[{'BeerID': 16814, 'BeerName': 'Heady Topper', 'NumReviews': 1024},\n",
       " {'BeerID': 7971, 'BeerName': 'Pliny The Elder', 'NumReviews': 727},\n",
       " {'BeerID': 19960,\n",
       "  'BeerName': 'KBS (Kentucky Breakfast Stout)',\n",
       "  'NumReviews': 569}]"
      ]
     },
     "execution_count": 13,
     "metadata": {},
     "output_type": "execute_result"
    }
   ],
   "source": [
    "# 3 recommended beers with the highest values in these set of properties related to the opinion of the customer regarding the beer\n",
    "result10 = group22_graph.run(\"\"\"\n",
    "        MATCH (r:Reviews)-[]-(b:Beers)\n",
    "        WHERE (r.feel='5' AND r.look='5' AND r.overall='5' AND r.smell='5' AND r.taste='5' AND r.score='5')\n",
    "        RETURN b.id as BeerID, b.name as BeerName, count(*) as NumOfReviews\n",
    "        ORDER BY NumOfReviews DESC\n",
    "        LIMIT 3\n",
    "\"\"\").data()\n",
    "result10"
   ]
  }
 ],
 "metadata": {
  "kernelspec": {
   "display_name": "Python 3",
   "language": "python",
   "name": "python3"
  },
  "language_info": {
   "codemirror_mode": {
    "name": "ipython",
    "version": 3
   },
   "file_extension": ".py",
   "mimetype": "text/x-python",
   "name": "python",
   "nbconvert_exporter": "python",
   "pygments_lexer": "ipython3",
   "version": "3.8.3"
  }
 },
 "nbformat": 4,
 "nbformat_minor": 4
}
