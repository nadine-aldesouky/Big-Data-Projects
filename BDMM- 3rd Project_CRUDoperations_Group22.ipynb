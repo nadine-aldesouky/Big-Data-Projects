{
 "cells": [
  {
   "cell_type": "markdown",
   "metadata": {},
   "source": [
    "# Big Data Modeling and Management 2021\n",
    "\n",
    "\n",
    "## 🚚 BDMM Third Homework Assignment 🚚 \n",
    "\n",
    "### CRUD operations"
   ]
  },
  {
   "cell_type": "code",
   "execution_count": 141,
   "metadata": {},
   "outputs": [
    {
     "name": "stdout",
     "output_type": "stream",
     "text": [
      "[('Purchasing_PurchaseOrderLines',), ('Purchasing_PurchaseOrders',), ('Purchasing_SupplierCategories',), ('Purchasing_SupplierTransactions',), ('Purchasing_Suppliers',), ('Sales_CustomerCategories',), ('Sales_CustomerTransactions',), ('Sales_Customers',), ('Sales_InvoiceLines',), ('Sales_Invoices',), ('Sales_OrderLines',), ('Sales_Orders',)]\n"
     ]
    }
   ],
   "source": [
    "#!pip install mysql-connector-python\n",
    "import pandas as pd\n",
    "import mysql.connector\n",
    "\n",
    "host = 'rhea.isegi.unl.pt'\n",
    "user = 'wwi-read-only-user'\n",
    "password = 'jGp2GCqrss6nfTEu5ZawhW3mksLsQYQb'\n",
    "database = 'WWI'\n",
    "\n",
    "mydb = mysql.connector.connect(host=host, user=user, database=database, port=3306, password=password)\n",
    "mycursor = mydb.cursor()\n",
    "\n",
    "mycursor.execute('SHOW TABLES;')\n",
    "tables_list = mycursor.fetchall()\n",
    "print(tables_list)"
   ]
  },
  {
   "cell_type": "code",
   "execution_count": 142,
   "metadata": {},
   "outputs": [],
   "source": [
    "def fixlist(lista):\n",
    "    listb = []\n",
    "    for x in lista:\n",
    "        for y in x:\n",
    "            listb.append(y)\n",
    "    return listb"
   ]
  },
  {
   "cell_type": "code",
   "execution_count": 143,
   "metadata": {},
   "outputs": [
    {
     "data": {
      "text/plain": [
       "['Purchasing_PurchaseOrderLines',\n",
       " 'Purchasing_PurchaseOrders',\n",
       " 'Purchasing_SupplierCategories',\n",
       " 'Purchasing_SupplierTransactions',\n",
       " 'Purchasing_Suppliers',\n",
       " 'Sales_CustomerCategories',\n",
       " 'Sales_CustomerTransactions',\n",
       " 'Sales_Customers',\n",
       " 'Sales_InvoiceLines',\n",
       " 'Sales_Invoices',\n",
       " 'Sales_OrderLines',\n",
       " 'Sales_Orders']"
      ]
     },
     "execution_count": 143,
     "metadata": {},
     "output_type": "execute_result"
    }
   ],
   "source": [
    "tables_list2 = fixlist(tables_list)\n",
    "tables_list2"
   ]
  },
  {
   "cell_type": "code",
   "execution_count": 1,
   "metadata": {},
   "outputs": [],
   "source": [
    "from pymongo import MongoClient\n",
    "from bson.objectid import ObjectId\n",
    "from pprint import pprint\n",
    "\n",
    "host=\"rhea.isegi.unl.pt\"\n",
    "port=\"27039\"\n",
    "user=\"GROUP_22\"\n",
    "password=\"AW319u0374I82895091g8k9291991eJV\"\n",
    "protocol=\"mongodb\"\n",
    "database = 'WWI'\n",
    "client = MongoClient(f\"{protocol}://{user}:{password}@{host}:{port}\")"
   ]
  },
  {
   "cell_type": "code",
   "execution_count": 2,
   "metadata": {},
   "outputs": [
    {
     "name": "stdout",
     "output_type": "stream",
     "text": [
      "Database info: Database(MongoClient(host=['rhea.isegi.unl.pt:27039'], document_class=dict, tz_aware=False, connect=True), 'WWI')\n",
      "\n"
     ]
    }
   ],
   "source": [
    "db = client.WWI\n",
    "print(f\"Database info: {db}\\n\")"
   ]
  },
  {
   "cell_type": "code",
   "execution_count": null,
   "metadata": {},
   "outputs": [],
   "source": [
    "groupinv = { \"$group\": { \"_id\": \"$InvoiceID\", \"TotalInv\": { \"$sum\": '$TotalItemPrice' } } }\n",
    "\n",
    "project = {'$project': {'_id':1,\n",
    "                       'TotalInv': 1}}\n",
    "\n",
    "looktoinv = {'$lookup': { 'from': \"Sales_Invoices\",\n",
    "        'localField': \"_id\",\n",
    "        'foreignField': \"InvoiceID\",\n",
    "        'as': \"invoice_info\"\n",
    "    }}\n",
    "\n",
    "unwind ={\"$unwind\":\"$invoice_info\"}\n",
    "\n",
    "project2 = {'$project': {'_id':0,\n",
    "                       'invoice_info.InvoiceID': 1,\n",
    "                        'invoice_info.SalespersonPersonID':1,\n",
    "                        'TotalInv':1,\n",
    "                        'invoice_info.InvoiceDate':1}}\n",
    "\n",
    "convert = { \"$addFields\": {\n",
    "    \"InvDate\": { \"$convert\": { \n",
    "                \"input\": \"$invoice_info.InvoiceDate\", \n",
    "                \"to\": \"date\"}}}}\n",
    "\n",
    "addf = { \"$addFields\": {'year' : { '$year' : '$InvDate'}}}\n",
    "\n",
    "match = {'$match': {'year': {'$eq' : 2013}}}\n",
    "\n",
    "group_person = {'$group':{\n",
    "    \"_id\": \"$invoice_info.SalespersonPersonID\",\n",
    "    \"TotalInvoices\": { \"$addToSet\":\"$TotalInv\" }\n",
    "}}\n",
    "\n",
    "project3 = {'$project': { '_id': 0,\n",
    "                         \"invoice_info.SalespersonPersonID\":1,\n",
    "                        \"MoneyPerson\": { '$sum': \"$TotalInv\" }}}\n",
    "\n",
    "sortdesc = {'$sort': {'MoneyPerson':-1}}\n",
    "\n",
    "limit ={\"$limit\":1}\n",
    "\n",
    "looktopers = {'$lookup': { 'from': \"Project_WWI_Application_People\",\n",
    "        'localField': \"invoice_info.SalespersonPersonID\",\n",
    "        'foreignField': \"PersonID\",\n",
    "        'as': \"person_info\"\n",
    "    }}\n",
    "\n",
    "unwind2 = {\"$unwind\":\"$person_info\"}\n",
    "\n",
    "finproj = {'$project': { '_id': 0,\n",
    "                         'PersonName': \"$person_info.FullName\",\n",
    "                        \"MoneyPerson\":1}}\n",
    "\n",
    "\n",
    "pipeline = [groupinv,project, looktoinv,unwind,project2,convert,addf, match,group_person, project3,\n",
    "                                      sortdesc, limit, looktopers,unwind2,finproj]\n",
    "\n",
    "r = db.Sales_InvoiceLines.aggregate(pipeline)\n",
    "           \n",
    "list(r)"
   ]
  },
  {
   "cell_type": "code",
   "execution_count": 146,
   "metadata": {},
   "outputs": [],
   "source": [
    "############################################## SQL Migration ########################################################\n",
    "\n",
    "# Transform all SQL tables into csv files\n",
    "#for i in range(len(tables_list2)):\n",
    "#    query = f'select * from {tables_list2[i]}'\n",
    "#    results = pd.read_sql_query(query, mydb)\n",
    "#    table_name = tables_list2[i]\n",
    "#    results.to_csv(table_name+\".csv\", index=False)"
   ]
  },
  {
   "cell_type": "code",
   "execution_count": 147,
   "metadata": {},
   "outputs": [],
   "source": [
    "# Function to transform csv files into dictionaries\n",
    "\n",
    "def csvtodict(path):\n",
    "    df = pd.read_csv(path)\n",
    "    return df.to_dict('records')"
   ]
  },
  {
   "cell_type": "code",
   "execution_count": 148,
   "metadata": {},
   "outputs": [],
   "source": [
    "# Add the dictionaries as collections to our database\n",
    "for table in tables_list2:\n",
    "    db[table].insert_many(csvtodict(table+\".csv\"))"
   ]
  },
  {
   "cell_type": "code",
   "execution_count": 149,
   "metadata": {},
   "outputs": [
    {
     "name": "stdout",
     "output_type": "stream",
     "text": [
      "The database contains 12 collections\n",
      "All collections: ['Sales_Customers', 'Purchasing_SupplierTransactions', 'Sales_Orders', 'Purchasing_SupplierCategories', 'Sales_CustomerCategories', 'Sales_CustomerTransactions', 'Purchasing_Suppliers', 'Purchasing_PurchaseOrderLines', 'Sales_OrderLines', 'Sales_InvoiceLines', 'Sales_Invoices', 'Purchasing_PurchaseOrders']\n"
     ]
    }
   ],
   "source": [
    "# check to see if they were properly added\n",
    "collection_list = db.list_collection_names()\n",
    "print(f\"The database contains {len(collection_list)} collections\")\n",
    "\n",
    "print(f\"All collections: {collection_list}\")"
   ]
  },
  {
   "cell_type": "code",
   "execution_count": 150,
   "metadata": {},
   "outputs": [
    {
     "data": {
      "text/plain": [
       "{'_id': ObjectId('60b3d7e5781dea0108ea33f1'),\n",
       " 'CustomerID': 1,\n",
       " 'CustomerName': 'Tailspin Toys (Head Office)',\n",
       " 'BillToCustomerID': 1,\n",
       " 'CustomerCategoryID': 3,\n",
       " 'PrimaryContactPersonID': 1001,\n",
       " 'AlternateContactPersonID': 1002.0,\n",
       " 'DeliveryMethodID': 3,\n",
       " 'DeliveryCityID': 19586,\n",
       " 'PostalCityID': 19586,\n",
       " 'CreditLimit': nan,\n",
       " 'AccountOpenedDate': '2013-01-01',\n",
       " 'StandardDiscountPercentage': 0.0,\n",
       " 'IsStatementSent': 0,\n",
       " 'IsOnCreditHold': 0,\n",
       " 'PaymentDays': 7,\n",
       " 'PhoneNumber': '(308) 555-0100',\n",
       " 'FaxNumber': '(308) 555-0101',\n",
       " 'DeliveryRun': nan,\n",
       " 'RunPosition': nan,\n",
       " 'WebsiteURL': 'http://www.tailspintoys.com',\n",
       " 'DeliveryAddressLine1': 'Shop 38',\n",
       " 'DeliveryAddressLine2': '1877 Mittal Road',\n",
       " 'DeliveryPostalCode': 90410,\n",
       " 'DeliveryLocationLat': 41.4972,\n",
       " 'DeliveryLocationLong': -102.62,\n",
       " 'PostalAddressLine1': 'PO Box 8975',\n",
       " 'PostalAddressLine2': 'Ribeiroville',\n",
       " 'PostalPostalCode': 90410}"
      ]
     },
     "execution_count": 150,
     "metadata": {},
     "output_type": "execute_result"
    }
   ],
   "source": [
    "# check the fields of each table to match given diagram\n",
    "db.Sales_Customers.find_one()"
   ]
  },
  {
   "cell_type": "code",
   "execution_count": 151,
   "metadata": {},
   "outputs": [],
   "source": [
    "########################################## CSV Migration ##########################################################\n",
    "\n",
    "csvfiles_list = ['Project_WWI_Warehouse_Colors','Project_WWI_Warehouse_PackageTypes','Project_WWI_Warehouse_StockGroups',\n",
    "                'Project_WWI_Warehouse_StockItems','Project_WWI_Warehouse_StockItemStockGroups','Project_WWI_Warehouse_StockItemTransactions']\n",
    "\n",
    "for file in csvfiles_list:\n",
    "    db[file].insert_many(csvtodict(file+\".csv\"))\n",
    "    "
   ]
  },
  {
   "cell_type": "code",
   "execution_count": 152,
   "metadata": {},
   "outputs": [
    {
     "name": "stdout",
     "output_type": "stream",
     "text": [
      "The database contains 18 collections\n",
      "All collections: ['Sales_Customers', 'Project_WWI_Warehouse_StockItemStockGroups', 'Project_WWI_Warehouse_StockItemTransactions', 'Purchasing_SupplierTransactions', 'Sales_Orders', 'Purchasing_SupplierCategories', 'Sales_CustomerCategories', 'Sales_CustomerTransactions', 'Project_WWI_Warehouse_PackageTypes', 'Purchasing_Suppliers', 'Purchasing_PurchaseOrderLines', 'Sales_OrderLines', 'Project_WWI_Warehouse_StockItems', 'Sales_InvoiceLines', 'Sales_Invoices', 'Project_WWI_Warehouse_StockGroups', 'Project_WWI_Warehouse_Colors', 'Purchasing_PurchaseOrders']\n"
     ]
    }
   ],
   "source": [
    "# check to see if they were properly added\n",
    "collection_list = db.list_collection_names()\n",
    "print(f\"The database contains {len(collection_list)} collections\")\n",
    "\n",
    "print(f\"All collections: {collection_list}\")"
   ]
  },
  {
   "cell_type": "code",
   "execution_count": 153,
   "metadata": {},
   "outputs": [
    {
     "data": {
      "text/plain": [
       "{'_id': ObjectId('60b3d89d781dea0108ee0781'),\n",
       " 'ColorID': 1,\n",
       " 'ColorName': 'Azure'}"
      ]
     },
     "execution_count": 153,
     "metadata": {},
     "output_type": "execute_result"
    }
   ],
   "source": [
    "# check the fields of each table to match given diagram\n",
    "db.Project_WWI_Warehouse_Colors.find_one()"
   ]
  },
  {
   "cell_type": "code",
   "execution_count": 154,
   "metadata": {},
   "outputs": [],
   "source": [
    "############################################## Json Migration ########################################################\n",
    "import json\n",
    "\n",
    "jsonfiles_list = ['Project_WWI_Application_Cities.json', 'Project_WWI_Application_Countries.json', \n",
    "                  'Project_WWI_Application_DeliveryMethods.json', 'Project_WWI_Application_PaymentMethods.json',\n",
    "                  'Project_WWI_Application_People.json', 'Project_WWI_Application_StateProvinces.json',\n",
    "                  'Project_WWI_Application_TransactionTypes.json']\n",
    "\n",
    "jsonfiles_names = ['Project_WWI_Application_Cities', 'Project_WWI_Application_Countries', \n",
    "                  'Project_WWI_Application_DeliveryMethods', 'Project_WWI_Application_PaymentMethods',\n",
    "                  'Project_WWI_Application_People', 'Project_WWI_Application_StateProvinces',\n",
    "                  'Project_WWI_Application_TransactionTypes']\n",
    "\n",
    "for path,name in zip(jsonfiles_list,jsonfiles_names): \n",
    "    with open(path) as json_file:\n",
    "        json_2 = json.load(json_file)\n",
    "        data = json_2\n",
    "        db[name].insert_many(data)\n",
    "       "
   ]
  },
  {
   "cell_type": "code",
   "execution_count": 155,
   "metadata": {},
   "outputs": [
    {
     "data": {
      "text/plain": [
       "{'_id': ObjectId('60b3d8f5781dea0108f23b09'),\n",
       " 'CountryID': 1,\n",
       " 'CountryName': 'Afghanistan',\n",
       " 'FormalName': 'Islamic State of Afghanistan',\n",
       " 'IsoAlpha3Code': 'AFG',\n",
       " 'IsoNumericCode': 4,\n",
       " 'CountryType': 'UN Member State',\n",
       " 'LatestRecordedPopulation': 28400000,\n",
       " 'Continent': 'Asia',\n",
       " 'Region': 'Asia',\n",
       " 'Subregion': 'Southern Asia'}"
      ]
     },
     "execution_count": 155,
     "metadata": {},
     "output_type": "execute_result"
    }
   ],
   "source": [
    "# check the fields of each table to match given diagram\n",
    "db.Project_WWI_Application_Countries.find_one()"
   ]
  },
  {
   "cell_type": "markdown",
   "metadata": {},
   "source": [
    "### Creating The Model:"
   ]
  },
  {
   "cell_type": "markdown",
   "metadata": {},
   "source": [
    "* First draft of the embedding process from the Relational Diagram:"
   ]
  },
  {
   "cell_type": "markdown",
   "metadata": {},
   "source": [
    "<img src=\"./linkedWWI-draft2.jpg\" alt=\"Diagram\" style=\"width: 600px;\"/>"
   ]
  },
  {
   "cell_type": "code",
   "execution_count": 156,
   "metadata": {},
   "outputs": [],
   "source": [
    "#Note: in purchasing suppliers & sales customers it doesnt match the diagram, delivery location is actually 2 fields latitude and longitude"
   ]
  },
  {
   "cell_type": "code",
   "execution_count": 157,
   "metadata": {},
   "outputs": [],
   "source": [
    "# main function with the standard embedding \n",
    "def embedding(principal_collection, lookup_collection, match_field1, match_field2, alias, merge_into, unwind = False):\n",
    "    query_1 = {\n",
    "            \"$lookup\":{\n",
    "               \"from\": lookup_collection,\n",
    "               \"localField\": match_field1,\n",
    "               \"foreignField\": match_field2,\n",
    "               \"as\": alias\n",
    "            }\n",
    "        }\n",
    "\n",
    "    query_2 = {\n",
    "            \"$project\":{\n",
    "               alias+\"._id\": 0\n",
    "            }\n",
    "        }\n",
    "\n",
    "    query_3 = { \n",
    "            \"$merge\" : {\n",
    "                \"into\" : merge_into,\n",
    "                \"whenMatched\": \"merge\"\n",
    "            } \n",
    "        }\n",
    "    \n",
    "    if unwind:\n",
    "        unwind_query = {\"$unwind\": \"$\"+ alias}\n",
    "        pipeline = [query_1, unwind_query, query_2, query_3]  \n",
    "    else:  \n",
    "        pipeline = [query_1, query_2, query_3]\n",
    "        \n",
    "    \n",
    "    principal_collection.aggregate(pipeline)\n",
    "    \n",
    "    \n",
    "    db[merge_into].update_many(\n",
    "        { },\n",
    "        { \"$unset\": { match_field1: \"\" } }\n",
    "    )\n",
    "    \n",
    "    return list(db[merge_into].find())\n",
    "    "
   ]
  },
  {
   "cell_type": "code",
   "execution_count": 158,
   "metadata": {},
   "outputs": [
    {
     "data": {
      "text/plain": [
       "{'_id': ObjectId('60b3d89d781dea0108ee07bf'),\n",
       " 'Barcode': nan,\n",
       " 'Brand': nan,\n",
       " 'Color': {'ColorID': 3, 'ColorName': 'Black'},\n",
       " 'InternalComments': nan,\n",
       " 'IsChillerStock': False,\n",
       " 'LeadTimeDays': 14,\n",
       " 'MarketingComments': \"Need to see over your cubicle wall? This is just what's needed.\",\n",
       " 'OuterPackageID': 6,\n",
       " 'Photo': nan,\n",
       " 'QuantityPerOuter': 10,\n",
       " 'RecommendedRetailPrice': 27.66,\n",
       " 'SearchDetails': \"Office cube periscope (Black) Need to see over your cubicle wall? This is just what's needed.\",\n",
       " 'Size': nan,\n",
       " 'StockItemID': 3,\n",
       " 'StockItemName': 'Office cube periscope (Black)',\n",
       " 'SupplierID': 12,\n",
       " 'TaxRate': 15.0,\n",
       " 'TypicalWeightPerUnit': 0.25,\n",
       " 'UnitPackageID': 7,\n",
       " 'UnitPrice': 18.5}"
      ]
     },
     "execution_count": 158,
     "metadata": {},
     "output_type": "execute_result"
    }
   ],
   "source": [
    "# embed colours table into stock items table\n",
    "\n",
    "r = embedding(principal_collection = db.Project_WWI_Warehouse_StockItems, \n",
    "              lookup_collection = \"Project_WWI_Warehouse_Colors\", match_field1 = \"ColorID\",\n",
    "              match_field2 = \"ColorID\", alias = \"Color\",\n",
    "              merge_into = \"Warehouse_StockItems_Embeding1\", unwind = True)\n",
    "\n",
    "r[1]"
   ]
  },
  {
   "cell_type": "code",
   "execution_count": 159,
   "metadata": {},
   "outputs": [],
   "source": [
    "# can now drop the unnecessary Project_WWI_Warehouse_Colors table & older Project_WWI_Warehouse_StockItems table\n",
    "db['Project_WWI_Warehouse_Colors'].drop()\n",
    "db['Project_WWI_Warehouse_StockItems'].drop()"
   ]
  },
  {
   "cell_type": "code",
   "execution_count": 160,
   "metadata": {},
   "outputs": [
    {
     "data": {
      "text/plain": [
       "{'_id': ObjectId('60b3d89d781dea0108ee08a0'),\n",
       " 'Group': {'StockGroupID': 6, 'StockGroupName': 'Computing Novelties'},\n",
       " 'StockItemID': 1,\n",
       " 'StockItemStockGroupID': 1}"
      ]
     },
     "execution_count": 160,
     "metadata": {},
     "output_type": "execute_result"
    }
   ],
   "source": [
    "# embed stock groups into stock item stock groups table\n",
    "\n",
    "r = embedding(principal_collection = db.Project_WWI_Warehouse_StockItemStockGroups, \n",
    "              lookup_collection = \"Project_WWI_Warehouse_StockGroups\", match_field1 = \"StockGroupID\",\n",
    "              match_field2 = \"StockGroupID\", alias = \"Group\",\n",
    "              merge_into = \"Warehouse_StockItemsStockGroups_Embeding1\", unwind = True)\n",
    "\n",
    "r[0]"
   ]
  },
  {
   "cell_type": "code",
   "execution_count": 161,
   "metadata": {},
   "outputs": [],
   "source": [
    "#can now drop the unnecessary Project_WWI_Warehouse_StockGroups table\n",
    "db['Project_WWI_Warehouse_StockGroups'].drop()"
   ]
  },
  {
   "cell_type": "code",
   "execution_count": 162,
   "metadata": {},
   "outputs": [
    {
     "data": {
      "text/plain": [
       "<pymongo.results.UpdateResult at 0x235c2024200>"
      ]
     },
     "execution_count": 162,
     "metadata": {},
     "output_type": "execute_result"
    }
   ],
   "source": [
    "# take out previous unique key for the relational database and add groupid and name as fields\n",
    "db.Warehouse_StockItemsStockGroups_Embeding1.aggregate([{\n",
    "    \"$addFields\": { \"StockGroupID\": \"$Group.StockGroupID\", \"StockGroupName\": \"$Group.StockGroupName\"} },\n",
    "    { \n",
    "            \"$merge\" : {\n",
    "                \"into\" : \"Warehouse_StockItemsStockGroups_Embeding_Group\",\n",
    "                \"whenMatched\": \"merge\"\n",
    "            } \n",
    "        }\n",
    "    \n",
    "])\n",
    "db.Warehouse_StockItemsStockGroups_Embeding_Group.update_many(\n",
    "        { },\n",
    "        { \"$unset\": { 'StockItemStockGroupID': \"\" , \"Group\": \"\"} }\n",
    "    )"
   ]
  },
  {
   "cell_type": "code",
   "execution_count": 163,
   "metadata": {},
   "outputs": [
    {
     "data": {
      "text/plain": [
       "{'_id': ObjectId('60b3d89d781dea0108ee08a8'),\n",
       " 'StockGroupID': 6,\n",
       " 'StockGroupName': 'Computing Novelties',\n",
       " 'StockItemID': 4}"
      ]
     },
     "execution_count": 163,
     "metadata": {},
     "output_type": "execute_result"
    }
   ],
   "source": [
    "list(db.Warehouse_StockItemsStockGroups_Embeding_Group.find())[8]"
   ]
  },
  {
   "cell_type": "code",
   "execution_count": 164,
   "metadata": {},
   "outputs": [],
   "source": [
    "db['Warehouse_StockItemsStockGroups_Embeding1'].drop()"
   ]
  },
  {
   "cell_type": "code",
   "execution_count": 165,
   "metadata": {},
   "outputs": [
    {
     "data": {
      "text/plain": [
       "<pymongo.command_cursor.CommandCursor at 0x235a900c1c0>"
      ]
     },
     "execution_count": 165,
     "metadata": {},
     "output_type": "execute_result"
    }
   ],
   "source": [
    "# embed stock item stock groups into stock items table\n",
    "# Given that we need to use a different template this time we cant use the general function we made\n",
    "query_1 = {\n",
    "        \"$lookup\":{\n",
    "           \"from\": \"Warehouse_StockItemsStockGroups_Embeding_Group\",\n",
    "           \"localField\": \"StockItemID\",\n",
    "           \"foreignField\": \"StockItemID\",\n",
    "           \"as\": \"Groups\"\n",
    "        }\n",
    "    }\n",
    "\n",
    "# Here's the difference - instead of unset matching field from the main table\n",
    "# this time we want to delete from the embeded part\n",
    "query_2 = {\n",
    "        \"$project\":{\n",
    "           \"Groups._id\": 0,\n",
    "           \"Groups.StockItemID\": 0 \n",
    "        }\n",
    "    }\n",
    "\n",
    "query_3 = { \n",
    "        \"$merge\" : {\n",
    "            \"into\" : \"Warehouse_StockItems_Embeding2\",\n",
    "            \"whenMatched\": \"merge\"\n",
    "        } \n",
    "    }\n",
    "\n",
    "pipeline = [query_1, query_2, query_3]  \n",
    "\n",
    "db.Warehouse_StockItems_Embeding1.aggregate(pipeline)\n"
   ]
  },
  {
   "cell_type": "code",
   "execution_count": 166,
   "metadata": {},
   "outputs": [
    {
     "data": {
      "text/plain": [
       "{'_id': ObjectId('60b3d89d781dea0108ee07bf'),\n",
       " 'Barcode': nan,\n",
       " 'Brand': nan,\n",
       " 'Color': {'ColorID': 3, 'ColorName': 'Black'},\n",
       " 'Groups': [{'StockGroupID': 6, 'StockGroupName': 'Computing Novelties'},\n",
       "  {'StockGroupID': 1, 'StockGroupName': 'Novelty Items'}],\n",
       " 'InternalComments': nan,\n",
       " 'IsChillerStock': False,\n",
       " 'LeadTimeDays': 14,\n",
       " 'MarketingComments': \"Need to see over your cubicle wall? This is just what's needed.\",\n",
       " 'OuterPackageID': 6,\n",
       " 'Photo': nan,\n",
       " 'QuantityPerOuter': 10,\n",
       " 'RecommendedRetailPrice': 27.66,\n",
       " 'SearchDetails': \"Office cube periscope (Black) Need to see over your cubicle wall? This is just what's needed.\",\n",
       " 'Size': nan,\n",
       " 'StockItemID': 3,\n",
       " 'StockItemName': 'Office cube periscope (Black)',\n",
       " 'SupplierID': 12,\n",
       " 'TaxRate': 15.0,\n",
       " 'TypicalWeightPerUnit': 0.25,\n",
       " 'UnitPackageID': 7,\n",
       " 'UnitPrice': 18.5}"
      ]
     },
     "execution_count": 166,
     "metadata": {},
     "output_type": "execute_result"
    }
   ],
   "source": [
    "list(db.Warehouse_StockItems_Embeding2.find())[1]"
   ]
  },
  {
   "cell_type": "code",
   "execution_count": 167,
   "metadata": {},
   "outputs": [
    {
     "data": {
      "text/plain": [
       "{'_id': ObjectId('60b3d89d781dea0108ee07bf'),\n",
       " 'Barcode': nan,\n",
       " 'Brand': nan,\n",
       " 'Color': {'ColorID': 3, 'ColorName': 'Black'},\n",
       " 'Groups': [{'StockGroupID': 6, 'StockGroupName': 'Computing Novelties'},\n",
       "  {'StockGroupID': 1, 'StockGroupName': 'Novelty Items'}],\n",
       " 'InternalComments': nan,\n",
       " 'IsChillerStock': False,\n",
       " 'LeadTimeDays': 14,\n",
       " 'MarketingComments': \"Need to see over your cubicle wall? This is just what's needed.\",\n",
       " 'OuterPackage_Details': {'PackageTypeID': 6, 'PackageTypeName': 'Carton'},\n",
       " 'Photo': nan,\n",
       " 'QuantityPerOuter': 10,\n",
       " 'RecommendedRetailPrice': 27.66,\n",
       " 'SearchDetails': \"Office cube periscope (Black) Need to see over your cubicle wall? This is just what's needed.\",\n",
       " 'Size': nan,\n",
       " 'StockItemID': 3,\n",
       " 'StockItemName': 'Office cube periscope (Black)',\n",
       " 'SupplierID': 12,\n",
       " 'TaxRate': 15.0,\n",
       " 'TypicalWeightPerUnit': 0.25,\n",
       " 'UnitPackage_Details': {'PackageTypeID': 7, 'PackageTypeName': 'Each'},\n",
       " 'UnitPrice': 18.5}"
      ]
     },
     "execution_count": 167,
     "metadata": {},
     "output_type": "execute_result"
    }
   ],
   "source": [
    "# embed warehouse package type into stokcitems\n",
    "\n",
    "r = embedding(principal_collection = db.Warehouse_StockItems_Embeding2, \n",
    "              lookup_collection = \"Project_WWI_Warehouse_PackageTypes\", match_field1 = \"UnitPackageID\",\n",
    "              match_field2 = \"PackageTypeID\", alias = \"UnitPackage_Details\",\n",
    "              merge_into = \"Warehouse_StockItems_Embeding3\", unwind = True)\n",
    "\n",
    "r = embedding(principal_collection = db.Warehouse_StockItems_Embeding3, \n",
    "              lookup_collection = \"Project_WWI_Warehouse_PackageTypes\", match_field1 = \"OuterPackageID\",\n",
    "              match_field2 = \"PackageTypeID\", alias = \"OuterPackage_Details\",\n",
    "              merge_into = \"Warehouse_StockItems_Embeding4\", unwind = True)\n",
    "r[1]"
   ]
  },
  {
   "cell_type": "code",
   "execution_count": 168,
   "metadata": {},
   "outputs": [],
   "source": [
    "# can now drop the unnecessary Project_WWI_Warehouse_StockItemStockGroups table & \n",
    "# old embedded tables \n",
    "db['Project_WWI_Warehouse_StockItemStockGroups'].drop()\n",
    "db['Warehouse_StockItemsStockGroups_Embeding_Group'].drop()\n",
    "db['Warehouse_StockItems_Embeding1'].drop()\n",
    "db['Warehouse_StockItems_Embeding2'].drop()\n",
    "db['Warehouse_StockItems_Embeding3'].drop()"
   ]
  },
  {
   "cell_type": "code",
   "execution_count": 169,
   "metadata": {},
   "outputs": [
    {
     "data": {
      "text/plain": [
       "{'_id': ObjectId('60b3d7ca781dea0108e93665'),\n",
       " 'Description': 'Pack of 12 action figures (male)',\n",
       " 'ExpectedUnitPricePerOuter': 5.5,\n",
       " 'IsOrderLineFinalized': 1,\n",
       " 'OrderedOuters': 21,\n",
       " 'Package_Details': {'PackageTypeID': 9, 'PackageTypeName': 'Packet'},\n",
       " 'PurchaseOrderID': 1,\n",
       " 'PurchaseOrderLineID': 2,\n",
       " 'ReceivedOuters': 21,\n",
       " 'StockItemID': 151}"
      ]
     },
     "execution_count": 169,
     "metadata": {},
     "output_type": "execute_result"
    }
   ],
   "source": [
    "# embed warehouse package type into purchase order lines\n",
    "\n",
    "r = embedding(principal_collection = db.Purchasing_PurchaseOrderLines, \n",
    "              lookup_collection = \"Project_WWI_Warehouse_PackageTypes\", match_field1 = \"PackageTypeID\",\n",
    "              match_field2 = \"PackageTypeID\", alias = \"Package_Details\",\n",
    "              merge_into = \"PurchaseOrderLines_Embeding1\", unwind=True)\n",
    "\n",
    "r[1]"
   ]
  },
  {
   "cell_type": "code",
   "execution_count": 170,
   "metadata": {},
   "outputs": [],
   "source": [
    "#can now drop the unnecessary Purchasing_PurchaseOrderLines table\n",
    "db['Purchasing_PurchaseOrderLines'].drop()"
   ]
  },
  {
   "cell_type": "code",
   "execution_count": 171,
   "metadata": {},
   "outputs": [
    {
     "data": {
      "text/plain": [
       "{'_id': ObjectId('60b3d7cc781dea0108e968bd'),\n",
       " 'AlternateContactPersonID': 24,\n",
       " 'BankAccountBranch': 'Woodgrove Bank Greenbank',\n",
       " 'BankAccountCode': 358698,\n",
       " 'BankAccountName': 'Contoso Ltd',\n",
       " 'BankAccountNumber': 4587965215,\n",
       " 'BankInternationalCode': 25868,\n",
       " 'DeliveryAddressLine1': 'Unit 2',\n",
       " 'DeliveryAddressLine2': '2934 Night Road',\n",
       " 'DeliveryCityID': 13870,\n",
       " 'DeliveryLocationLat': 48.0982,\n",
       " 'DeliveryLocationLong': -122.573,\n",
       " 'DeliveryMethodID': 9.0,\n",
       " 'DeliveryPostalCode': 98253,\n",
       " 'FaxNumber': '(360) 555-0101',\n",
       " 'InternalComments': nan,\n",
       " 'PaymentDays': 7,\n",
       " 'PhoneNumber': '(360) 555-0100',\n",
       " 'PostalAddressLine1': 'PO Box 1012',\n",
       " 'PostalAddressLine2': 'Jolimont',\n",
       " 'PostalCityID': 13870,\n",
       " 'PostalPostalCode': 98253,\n",
       " 'PrimaryContactPersonID': 23,\n",
       " 'SupplierID': 2,\n",
       " 'SupplierName': 'Contoso, Ltd.',\n",
       " 'SupplierReference': 'B2084020',\n",
       " 'Supplier_Category': {'SupplierCategoryID': 2,\n",
       "  'SupplierCategoryName': 'Novelty Goods Supplier'},\n",
       " 'WebsiteURL': 'http://www.contoso.com'}"
      ]
     },
     "execution_count": 171,
     "metadata": {},
     "output_type": "execute_result"
    }
   ],
   "source": [
    "# embed supplier categories into suppliers\n",
    "r = embedding(principal_collection = db.Purchasing_Suppliers, \n",
    "              lookup_collection = \"Purchasing_SupplierCategories\", match_field1 = \"SupplierCategoryID\",\n",
    "              match_field2 = \"SupplierCategoryID\", alias = \"Supplier_Category\",\n",
    "              merge_into = \"Purchasing_Suppliers_Embeding1\", unwind= True)\n",
    "\n",
    "r[1]"
   ]
  },
  {
   "cell_type": "code",
   "execution_count": 172,
   "metadata": {},
   "outputs": [],
   "source": [
    "# can now drop the unnecessary Purchasing_SupplierCategories table & older Purchasing_Suppliers table\n",
    "db['Purchasing_SupplierCategories'].drop()\n",
    "db['Purchasing_Suppliers'].drop()"
   ]
  },
  {
   "cell_type": "code",
   "execution_count": 173,
   "metadata": {},
   "outputs": [
    {
     "data": {
      "text/plain": [
       "{'_id': ObjectId('60b3d850781dea0108ebbf27'),\n",
       " 'Description': 'Ride on toy sedan car (Black) 1/12 scale',\n",
       " 'OrderID': 1,\n",
       " 'OrderLineID': 2,\n",
       " 'Package_Details': {'PackageTypeID': 7, 'PackageTypeName': 'Each'},\n",
       " 'PickedQuantity': 10,\n",
       " 'PickingCompletedWhen': '2013-01-01 11:00:00',\n",
       " 'Quantity': 10,\n",
       " 'StockItemID': 67,\n",
       " 'TaxRate': 15.0,\n",
       " 'UnitPrice': 230.0}"
      ]
     },
     "execution_count": 173,
     "metadata": {},
     "output_type": "execute_result"
    }
   ],
   "source": [
    "# embed warehouse package type into sales order lines\n",
    "r = embedding(principal_collection = db.Sales_OrderLines, \n",
    "              lookup_collection = \"Project_WWI_Warehouse_PackageTypes\", match_field1 = \"PackageTypeID\",\n",
    "              match_field2 = \"PackageTypeID\", alias = \"Package_Details\",\n",
    "              merge_into = \"Sales_OrderLines_Embeding1\", unwind = True)\n",
    "\n",
    "r[1]"
   ]
  },
  {
   "cell_type": "code",
   "execution_count": 174,
   "metadata": {},
   "outputs": [
    {
     "data": {
      "text/plain": [
       "{'_id': ObjectId('60b3d7e6781dea0108ea3689'),\n",
       " 'Description': 'Developer joke mug - old C developers never die (White)',\n",
       " 'ExtendedPrice': 134.55,\n",
       " 'InvoiceID': 2,\n",
       " 'InvoiceLineID': 2,\n",
       " 'LineProfit': 76.5,\n",
       " 'Package_Details': {'PackageTypeID': 7, 'PackageTypeName': 'Each'},\n",
       " 'Quantity': 9,\n",
       " 'StockItemID': 50,\n",
       " 'TaxAmount': 17.55,\n",
       " 'TaxRate': 15.0,\n",
       " 'UnitPrice': 13.0}"
      ]
     },
     "execution_count": 174,
     "metadata": {},
     "output_type": "execute_result"
    }
   ],
   "source": [
    "# embed warehouse package type into invoices order lines\n",
    "r = embedding(principal_collection = db.Sales_InvoiceLines, \n",
    "              lookup_collection = \"Project_WWI_Warehouse_PackageTypes\", match_field1 = \"PackageTypeID\",\n",
    "              match_field2 = \"PackageTypeID\", alias = \"Package_Details\",\n",
    "              merge_into = \"Sales_InvoiceLines_Embeding1\", unwind = True)\n",
    "r[1]"
   ]
  },
  {
   "cell_type": "code",
   "execution_count": 175,
   "metadata": {},
   "outputs": [],
   "source": [
    "# can now drop the unnecessary Project_WWI_Warehouse_PackageTypes table & older Sales_OrderLines table\n",
    "db['Project_WWI_Warehouse_PackageTypes'].drop()\n",
    "db['Sales_OrderLines'].drop()\n",
    "db['Sales_InvoiceLines'].drop()"
   ]
  },
  {
   "cell_type": "code",
   "execution_count": 176,
   "metadata": {},
   "outputs": [
    {
     "data": {
      "text/plain": [
       "{'_id': ObjectId('60b3d7e5781dea0108ea33f2'),\n",
       " 'AccountOpenedDate': '2013-01-01',\n",
       " 'AlternateContactPersonID': 1004.0,\n",
       " 'BillToCustomerID': 1,\n",
       " 'CreditLimit': nan,\n",
       " 'CustomerID': 2,\n",
       " 'CustomerName': 'Tailspin Toys (Sylvanite, MT)',\n",
       " 'Customer_Category': {'CustomerCategoryID': 3,\n",
       "  'CustomerCategoryName': 'Novelty Shop'},\n",
       " 'DeliveryAddressLine1': 'Shop 245',\n",
       " 'DeliveryAddressLine2': '705 Dita Lane',\n",
       " 'DeliveryCityID': 33475,\n",
       " 'DeliveryLocationLat': 48.7163,\n",
       " 'DeliveryLocationLong': -115.874,\n",
       " 'DeliveryMethodID': 3,\n",
       " 'DeliveryPostalCode': 90216,\n",
       " 'DeliveryRun': nan,\n",
       " 'FaxNumber': '(406) 555-0101',\n",
       " 'IsOnCreditHold': 0,\n",
       " 'IsStatementSent': 0,\n",
       " 'PaymentDays': 7,\n",
       " 'PhoneNumber': '(406) 555-0100',\n",
       " 'PostalAddressLine1': 'PO Box 259',\n",
       " 'PostalAddressLine2': 'Jogiville',\n",
       " 'PostalCityID': 33475,\n",
       " 'PostalPostalCode': 90216,\n",
       " 'PrimaryContactPersonID': 1003,\n",
       " 'RunPosition': nan,\n",
       " 'StandardDiscountPercentage': 0.0,\n",
       " 'WebsiteURL': 'http://www.tailspintoys.com/Sylvanite'}"
      ]
     },
     "execution_count": 176,
     "metadata": {},
     "output_type": "execute_result"
    }
   ],
   "source": [
    "# embed customer categories into customers\n",
    "r = embedding(principal_collection = db.Sales_Customers, \n",
    "              lookup_collection = \"Sales_CustomerCategories\", match_field1 = \"CustomerCategoryID\",\n",
    "              match_field2 = \"CustomerCategoryID\", alias = \"Customer_Category\",\n",
    "              merge_into = \"Sales_Customers_Embeding1\", unwind = True)\n",
    "\n",
    "r[1]"
   ]
  },
  {
   "cell_type": "code",
   "execution_count": 177,
   "metadata": {},
   "outputs": [],
   "source": [
    "# can now drop the unnecessary Sales_CustomerCategories table & older Sales_Customers table\n",
    "db['Sales_CustomerCategories'].drop()\n",
    "db['Sales_Customers'].drop()"
   ]
  },
  {
   "cell_type": "code",
   "execution_count": 178,
   "metadata": {},
   "outputs": [],
   "source": [
    "# embed transaction types \n",
    "transactions = {'Purchasing_SupplierTransactions': db.Purchasing_SupplierTransactions, \n",
    "                'Sales_CustomerTransactions': db.Sales_CustomerTransactions, \n",
    "                'Warehouse_StockItemTransactions': db.Project_WWI_Warehouse_StockItemTransactions}\n",
    "\n",
    "for key,item in transactions.items():\n",
    "    r = embedding(principal_collection = item, \n",
    "              lookup_collection = \"Project_WWI_Application_TransactionTypes\", match_field1 = \"TransactionTypeID\",\n",
    "              match_field2 = \"TransactionTypeID\", alias = \"Transaction_Type\",\n",
    "              merge_into = key+\"_Embeding1\", unwind = True)\n"
   ]
  },
  {
   "cell_type": "code",
   "execution_count": 179,
   "metadata": {},
   "outputs": [
    {
     "data": {
      "text/plain": [
       "{'_id': ObjectId('60b3d7cc781dea0108e95f37'),\n",
       " 'AmountExcludingTax': 21732.0,\n",
       " 'FinalizationDate': '2013-01-07',\n",
       " 'IsFinalized': 1,\n",
       " 'OutstandingBalance': 0.0,\n",
       " 'PaymentMethodID': 4,\n",
       " 'PurchaseOrderID': 2.0,\n",
       " 'SupplierID': 4,\n",
       " 'SupplierInvoiceNumber': 3898.0,\n",
       " 'SupplierTransactionID': 169,\n",
       " 'TaxAmount': 3259.8,\n",
       " 'TransactionAmount': 24991.8,\n",
       " 'TransactionDate': '2013-01-02',\n",
       " 'Transaction_Type': {'TransactionTypeID': 5,\n",
       "  'TransactionTypeName': 'Supplier Invoice'}}"
      ]
     },
     "execution_count": 179,
     "metadata": {},
     "output_type": "execute_result"
    }
   ],
   "source": [
    "list(db.Purchasing_SupplierTransactions_Embeding1.find())[1]"
   ]
  },
  {
   "cell_type": "code",
   "execution_count": 180,
   "metadata": {},
   "outputs": [
    {
     "data": {
      "text/plain": [
       "{'_id': ObjectId('60b3d7cd781dea0108e968d2'),\n",
       " 'AmountExcludingTax': 405.0,\n",
       " 'CustomerID': 803,\n",
       " 'CustomerTransactionID': 5,\n",
       " 'FinalizationDate': '2013-01-02',\n",
       " 'InvoiceID': 2.0,\n",
       " 'IsFinalized': 1,\n",
       " 'OutstandingBalance': 0.0,\n",
       " 'PaymentMethodID': nan,\n",
       " 'TaxAmount': 60.75,\n",
       " 'TransactionAmount': 465.75,\n",
       " 'TransactionDate': '2013-01-01',\n",
       " 'Transaction_Type': {'TransactionTypeID': 1,\n",
       "  'TransactionTypeName': 'Customer Invoice'}}"
      ]
     },
     "execution_count": 180,
     "metadata": {},
     "output_type": "execute_result"
    }
   ],
   "source": [
    "list(db.Sales_CustomerTransactions_Embeding1.find())[1]"
   ]
  },
  {
   "cell_type": "code",
   "execution_count": 181,
   "metadata": {},
   "outputs": [
    {
     "data": {
      "text/plain": [
       "{'_id': ObjectId('60b3d89f781dea0108ee0a5b'),\n",
       " 'CustomerID': 803.0,\n",
       " 'InvoiceID': 2.0,\n",
       " 'PurchaseOrderID': nan,\n",
       " 'Quantity': -9.0,\n",
       " 'StockItemID': 50,\n",
       " 'StockItemTransactionID': 3,\n",
       " 'SupplierID': nan,\n",
       " 'TransactionOccurredWhen': '2013-01-01 12:00:00.0000000',\n",
       " 'Transaction_Type': {'TransactionTypeID': 10,\n",
       "  'TransactionTypeName': 'Stock Issue'}}"
      ]
     },
     "execution_count": 181,
     "metadata": {},
     "output_type": "execute_result"
    }
   ],
   "source": [
    "list(db.Warehouse_StockItemTransactions_Embeding1.find())[1]"
   ]
  },
  {
   "cell_type": "code",
   "execution_count": 182,
   "metadata": {},
   "outputs": [],
   "source": [
    "# can now drop the unnecessary older tables\n",
    "db['Sales_CustomerTransactions'].drop()\n",
    "db['Purchasing_SupplierTransactions'].drop()\n",
    "db['Project_WWI_Application_TransactionTypes'].drop()\n",
    "db['Project_WWI_Warehouse_StockItemTransactions'].drop()"
   ]
  },
  {
   "cell_type": "code",
   "execution_count": 183,
   "metadata": {},
   "outputs": [
    {
     "data": {
      "text/plain": [
       "{'_id': ObjectId('60b3d8f6781dea0108f2402d'),\n",
       " 'Country_Details': {'CountryID': 230,\n",
       "  'CountryName': 'United States',\n",
       "  'FormalName': 'United States of America',\n",
       "  'IsoAlpha3Code': 'USA',\n",
       "  'IsoNumericCode': 840,\n",
       "  'CountryType': 'UN Member State',\n",
       "  'LatestRecordedPopulation': 313973000,\n",
       "  'Continent': 'North America',\n",
       "  'Region': 'Americas',\n",
       "  'Subregion': 'Northern America'},\n",
       " 'LatestRecordedPopulation': 735132,\n",
       " 'SalesTerritory': 'Far West',\n",
       " 'StateProvinceCode': 'AK',\n",
       " 'StateProvinceID': 2,\n",
       " 'StateProvinceName': 'Alaska'}"
      ]
     },
     "execution_count": 183,
     "metadata": {},
     "output_type": "execute_result"
    }
   ],
   "source": [
    "# embed countries into state provinces\n",
    "\n",
    "r = embedding(principal_collection = db.Project_WWI_Application_StateProvinces, \n",
    "              lookup_collection = \"Project_WWI_Application_Countries\", match_field1 = \"CountryID\",\n",
    "              match_field2 = \"CountryID\", alias = \"Country_Details\",\n",
    "              merge_into = \"Application_StateProvinces_Embeding1\", unwind = True)\n",
    "\n",
    "r[1]"
   ]
  },
  {
   "cell_type": "code",
   "execution_count": 184,
   "metadata": {},
   "outputs": [],
   "source": [
    "# can now drop the unnecessary Project_WWI_Application_Countries table & older Project_WWI_Application_StateProvinces table\n",
    "db['Project_WWI_Application_Countries'].drop()\n",
    "db['Project_WWI_Application_StateProvinces'].drop()"
   ]
  },
  {
   "cell_type": "code",
   "execution_count": 185,
   "metadata": {},
   "outputs": [
    {
     "data": {
      "text/plain": [
       "{'_id': ObjectId('60b3d8ed781dea0108f1a6d6'),\n",
       " 'CityID': 3,\n",
       " 'CityName': 'Abanda',\n",
       " 'LatestRecordedPopulation': 192,\n",
       " 'Location': '0xE6100000010C4033880FEC8C4040EFBF3A33E66155C0',\n",
       " 'State_Province_Details': {'Country_Details': {'CountryID': 230,\n",
       "   'CountryName': 'United States',\n",
       "   'FormalName': 'United States of America',\n",
       "   'IsoAlpha3Code': 'USA',\n",
       "   'IsoNumericCode': 840,\n",
       "   'CountryType': 'UN Member State',\n",
       "   'LatestRecordedPopulation': 313973000,\n",
       "   'Continent': 'North America',\n",
       "   'Region': 'Americas',\n",
       "   'Subregion': 'Northern America'},\n",
       "  'LatestRecordedPopulation': 5437278,\n",
       "  'SalesTerritory': 'Southeast',\n",
       "  'StateProvinceCode': 'AL',\n",
       "  'StateProvinceID': 1,\n",
       "  'StateProvinceName': 'Alabama'}}"
      ]
     },
     "execution_count": 185,
     "metadata": {},
     "output_type": "execute_result"
    }
   ],
   "source": [
    "# embed state provinces into cities\n",
    "r = embedding(principal_collection = db.Project_WWI_Application_Cities, \n",
    "              lookup_collection = \"Application_StateProvinces_Embeding1\", match_field1 = \"StateProvinceID\",\n",
    "              match_field2 = \"StateProvinceID\", alias = \"State_Province_Details\",\n",
    "              merge_into = \"Application_Cities_Embeding1\", unwind = True)\n",
    "\n",
    "r[1]"
   ]
  },
  {
   "cell_type": "code",
   "execution_count": 186,
   "metadata": {},
   "outputs": [],
   "source": [
    "#can now drop the unnecessary Application_StateProvinces_Embeding1 table & older Project_WWI_Application_Cities table\n",
    "db['Application_StateProvinces_Embeding1'].drop()\n",
    "db['Project_WWI_Application_Cities'].drop()"
   ]
  },
  {
   "cell_type": "code",
   "execution_count": 187,
   "metadata": {},
   "outputs": [
    {
     "data": {
      "text/plain": [
       "{'_id': ObjectId('60b3d7e5781dea0108ea33f2'),\n",
       " 'AccountOpenedDate': '2013-01-01',\n",
       " 'AlternateContactPersonID': 1004.0,\n",
       " 'BillToCustomerID': 1,\n",
       " 'CreditLimit': nan,\n",
       " 'CustomerID': 2,\n",
       " 'CustomerName': 'Tailspin Toys (Sylvanite, MT)',\n",
       " 'Customer_Category': {'CustomerCategoryID': 3,\n",
       "  'CustomerCategoryName': 'Novelty Shop'},\n",
       " 'DeliveryAddressLine1': 'Shop 245',\n",
       " 'DeliveryAddressLine2': '705 Dita Lane',\n",
       " 'DeliveryCity_Details': {'CityID': 33475,\n",
       "  'CityName': 'Sylvanite',\n",
       "  'LatestRecordedPopulation': 103,\n",
       "  'Location': '0xE6100000010CF37A8BE2B05B4840056FA35CF5F75CC0',\n",
       "  'State_Province_Details': {'Country_Details': {'CountryID': 230,\n",
       "    'CountryName': 'United States',\n",
       "    'FormalName': 'United States of America',\n",
       "    'IsoAlpha3Code': 'USA',\n",
       "    'IsoNumericCode': 840,\n",
       "    'CountryType': 'UN Member State',\n",
       "    'LatestRecordedPopulation': 313973000,\n",
       "    'Continent': 'North America',\n",
       "    'Region': 'Americas',\n",
       "    'Subregion': 'Northern America'},\n",
       "   'LatestRecordedPopulation': 1187597,\n",
       "   'SalesTerritory': 'Rocky Mountain',\n",
       "   'StateProvinceCode': 'MT',\n",
       "   'StateProvinceID': 27,\n",
       "   'StateProvinceName': 'Montana'}},\n",
       " 'DeliveryLocationLat': 48.7163,\n",
       " 'DeliveryLocationLong': -115.874,\n",
       " 'DeliveryMethodID': 3,\n",
       " 'DeliveryPostalCode': 90216,\n",
       " 'DeliveryRun': nan,\n",
       " 'FaxNumber': '(406) 555-0101',\n",
       " 'IsOnCreditHold': 0,\n",
       " 'IsStatementSent': 0,\n",
       " 'PaymentDays': 7,\n",
       " 'PhoneNumber': '(406) 555-0100',\n",
       " 'PostalAddressLine1': 'PO Box 259',\n",
       " 'PostalAddressLine2': 'Jogiville',\n",
       " 'PostalCity_Details': {'CityID': 33475,\n",
       "  'CityName': 'Sylvanite',\n",
       "  'LatestRecordedPopulation': 103,\n",
       "  'Location': '0xE6100000010CF37A8BE2B05B4840056FA35CF5F75CC0',\n",
       "  'State_Province_Details': {'Country_Details': {'CountryID': 230,\n",
       "    'CountryName': 'United States',\n",
       "    'FormalName': 'United States of America',\n",
       "    'IsoAlpha3Code': 'USA',\n",
       "    'IsoNumericCode': 840,\n",
       "    'CountryType': 'UN Member State',\n",
       "    'LatestRecordedPopulation': 313973000,\n",
       "    'Continent': 'North America',\n",
       "    'Region': 'Americas',\n",
       "    'Subregion': 'Northern America'},\n",
       "   'LatestRecordedPopulation': 1187597,\n",
       "   'SalesTerritory': 'Rocky Mountain',\n",
       "   'StateProvinceCode': 'MT',\n",
       "   'StateProvinceID': 27,\n",
       "   'StateProvinceName': 'Montana'}},\n",
       " 'PostalPostalCode': 90216,\n",
       " 'PrimaryContactPersonID': 1003,\n",
       " 'RunPosition': nan,\n",
       " 'StandardDiscountPercentage': 0.0,\n",
       " 'WebsiteURL': 'http://www.tailspintoys.com/Sylvanite'}"
      ]
     },
     "execution_count": 187,
     "metadata": {},
     "output_type": "execute_result"
    }
   ],
   "source": [
    "# embed cities into customers\n",
    "\n",
    "r = embedding(principal_collection = db.Sales_Customers_Embeding1, \n",
    "              lookup_collection = \"Application_Cities_Embeding1\", match_field1 = \"DeliveryCityID\",\n",
    "              match_field2 = \"CityID\", alias = \"DeliveryCity_Details\",\n",
    "              merge_into = \"Sales_Customers_Embeding2\", unwind = True)\n",
    "\n",
    "r = embedding(principal_collection = db.Sales_Customers_Embeding2, \n",
    "              lookup_collection = \"Application_Cities_Embeding1\", match_field1 = \"PostalCityID\",\n",
    "              match_field2 = \"CityID\", alias = \"PostalCity_Details\",\n",
    "              merge_into = \"Sales_Customers_Embeding3\", unwind = True)\n",
    "r[1]"
   ]
  },
  {
   "cell_type": "code",
   "execution_count": 188,
   "metadata": {},
   "outputs": [],
   "source": [
    "# can now drop the older Sales_Customers_Embeding1 table\n",
    "db['Sales_Customers_Embeding1'].drop()\n",
    "db['Sales_Customers_Embeding2'].drop()"
   ]
  },
  {
   "cell_type": "code",
   "execution_count": 189,
   "metadata": {},
   "outputs": [
    {
     "data": {
      "text/plain": [
       "{'_id': ObjectId('60b3d7cc781dea0108e968bd'),\n",
       " 'AlternateContactPersonID': 24,\n",
       " 'BankAccountBranch': 'Woodgrove Bank Greenbank',\n",
       " 'BankAccountCode': 358698,\n",
       " 'BankAccountName': 'Contoso Ltd',\n",
       " 'BankAccountNumber': 4587965215,\n",
       " 'BankInternationalCode': 25868,\n",
       " 'DeliveryAddressLine1': 'Unit 2',\n",
       " 'DeliveryAddressLine2': '2934 Night Road',\n",
       " 'DeliveryCity_Details': {'CityID': 13870,\n",
       "  'CityName': 'Greenbank',\n",
       "  'LatestRecordedPopulation': None,\n",
       "  'Location': '0xE6100000010CDA4B6430900C4840C04EFBF7AAA45EC0',\n",
       "  'State_Province_Details': {'Country_Details': {'CountryID': 230,\n",
       "    'CountryName': 'United States',\n",
       "    'FormalName': 'United States of America',\n",
       "    'IsoAlpha3Code': 'USA',\n",
       "    'IsoNumericCode': 840,\n",
       "    'CountryType': 'UN Member State',\n",
       "    'LatestRecordedPopulation': 313973000,\n",
       "    'Continent': 'North America',\n",
       "    'Region': 'Americas',\n",
       "    'Subregion': 'Northern America'},\n",
       "   'LatestRecordedPopulation': 7540272,\n",
       "   'SalesTerritory': 'Far West',\n",
       "   'StateProvinceCode': 'WA',\n",
       "   'StateProvinceID': 50,\n",
       "   'StateProvinceName': 'Washington'}},\n",
       " 'DeliveryLocationLat': 48.0982,\n",
       " 'DeliveryLocationLong': -122.573,\n",
       " 'DeliveryMethodID': 9.0,\n",
       " 'DeliveryPostalCode': 98253,\n",
       " 'FaxNumber': '(360) 555-0101',\n",
       " 'InternalComments': nan,\n",
       " 'PaymentDays': 7,\n",
       " 'PhoneNumber': '(360) 555-0100',\n",
       " 'PostalAddressLine1': 'PO Box 1012',\n",
       " 'PostalAddressLine2': 'Jolimont',\n",
       " 'PostalCity_Details': {'CityID': 13870,\n",
       "  'CityName': 'Greenbank',\n",
       "  'LatestRecordedPopulation': None,\n",
       "  'Location': '0xE6100000010CDA4B6430900C4840C04EFBF7AAA45EC0',\n",
       "  'State_Province_Details': {'Country_Details': {'CountryID': 230,\n",
       "    'CountryName': 'United States',\n",
       "    'FormalName': 'United States of America',\n",
       "    'IsoAlpha3Code': 'USA',\n",
       "    'IsoNumericCode': 840,\n",
       "    'CountryType': 'UN Member State',\n",
       "    'LatestRecordedPopulation': 313973000,\n",
       "    'Continent': 'North America',\n",
       "    'Region': 'Americas',\n",
       "    'Subregion': 'Northern America'},\n",
       "   'LatestRecordedPopulation': 7540272,\n",
       "   'SalesTerritory': 'Far West',\n",
       "   'StateProvinceCode': 'WA',\n",
       "   'StateProvinceID': 50,\n",
       "   'StateProvinceName': 'Washington'}},\n",
       " 'PostalPostalCode': 98253,\n",
       " 'PrimaryContactPersonID': 23,\n",
       " 'SupplierID': 2,\n",
       " 'SupplierName': 'Contoso, Ltd.',\n",
       " 'SupplierReference': 'B2084020',\n",
       " 'Supplier_Category': {'SupplierCategoryID': 2,\n",
       "  'SupplierCategoryName': 'Novelty Goods Supplier'},\n",
       " 'WebsiteURL': 'http://www.contoso.com'}"
      ]
     },
     "execution_count": 189,
     "metadata": {},
     "output_type": "execute_result"
    }
   ],
   "source": [
    "# embed cities into suppliers\n",
    "\n",
    "r = embedding(principal_collection = db.Purchasing_Suppliers_Embeding1, \n",
    "              lookup_collection = \"Application_Cities_Embeding1\", match_field1 = \"DeliveryCityID\",\n",
    "              match_field2 = \"CityID\", alias = \"DeliveryCity_Details\",\n",
    "              merge_into = \"Purchasing_Suppliers_Embeding2\", unwind = True)\n",
    "\n",
    "r = embedding(principal_collection = db.Purchasing_Suppliers_Embeding2, \n",
    "              lookup_collection = \"Application_Cities_Embeding1\", match_field1 = \"PostalCityID\",\n",
    "              match_field2 = \"CityID\", alias = \"PostalCity_Details\",\n",
    "              merge_into = \"Purchasing_Suppliers_Embeding3\", unwind = True)\n",
    "r[1]"
   ]
  },
  {
   "cell_type": "code",
   "execution_count": 190,
   "metadata": {},
   "outputs": [],
   "source": [
    "# can now drop the unnecessary embeding tables\n",
    "db['Application_Cities_Embeding1'].drop()\n",
    "db['Purchasing_Suppliers_Embeding1'].drop()\n",
    "db['Application_Cities_Embeding2'].drop()\n",
    "db['Purchasing_Suppliers_Embeding2'].drop()"
   ]
  },
  {
   "cell_type": "code",
   "execution_count": 191,
   "metadata": {},
   "outputs": [
    {
     "data": {
      "text/plain": [
       "{'_id': ObjectId('60b3d7cc781dea0108e95f37'),\n",
       " 'AmountExcludingTax': 21732.0,\n",
       " 'FinalizationDate': '2013-01-07',\n",
       " 'IsFinalized': 1,\n",
       " 'OutstandingBalance': 0.0,\n",
       " 'Payment_Method': [{'PaymentMethodID': 4, 'PaymentMethodName': 'EFT'}],\n",
       " 'PurchaseOrderID': 2.0,\n",
       " 'SupplierID': 4,\n",
       " 'SupplierInvoiceNumber': 3898.0,\n",
       " 'SupplierTransactionID': 169,\n",
       " 'TaxAmount': 3259.8,\n",
       " 'TransactionAmount': 24991.8,\n",
       " 'TransactionDate': '2013-01-02',\n",
       " 'Transaction_Type': {'TransactionTypeID': 5,\n",
       "  'TransactionTypeName': 'Supplier Invoice'}}"
      ]
     },
     "execution_count": 191,
     "metadata": {},
     "output_type": "execute_result"
    }
   ],
   "source": [
    "# embed payment methods into supplier transactions\n",
    "r = embedding(principal_collection = db.Purchasing_SupplierTransactions_Embeding1, \n",
    "              lookup_collection = \"Project_WWI_Application_PaymentMethods\", match_field1 = \"PaymentMethodID\",\n",
    "              match_field2 = \"PaymentMethodID\", alias = \"Payment_Method\",\n",
    "              merge_into = \"Purchasing_SupplierTransactions_Embeding2\")\n",
    "\n",
    "r[1]"
   ]
  },
  {
   "cell_type": "code",
   "execution_count": 192,
   "metadata": {},
   "outputs": [],
   "source": [
    "# can now drop the older Purchasing_SupplierTransactions_Embeding1 table\n",
    "db['Purchasing_SupplierTransactions_Embeding1'].drop()"
   ]
  },
  {
   "cell_type": "code",
   "execution_count": 193,
   "metadata": {},
   "outputs": [
    {
     "data": {
      "text/plain": [
       "{'_id': ObjectId('60b3d7cd781dea0108e968d1'),\n",
       " 'AmountExcludingTax': 2300.0,\n",
       " 'CustomerID': 832,\n",
       " 'CustomerTransactionID': 2,\n",
       " 'FinalizationDate': '2013-01-02',\n",
       " 'InvoiceID': 1.0,\n",
       " 'IsFinalized': 1,\n",
       " 'OutstandingBalance': 0.0,\n",
       " 'Payment_Method': [],\n",
       " 'TaxAmount': 345.0,\n",
       " 'TransactionAmount': 2645.0,\n",
       " 'TransactionDate': '2013-01-01',\n",
       " 'Transaction_Type': {'TransactionTypeID': 1,\n",
       "  'TransactionTypeName': 'Customer Invoice'}}"
      ]
     },
     "execution_count": 193,
     "metadata": {},
     "output_type": "execute_result"
    }
   ],
   "source": [
    "# embed payment methods into customer transactions\n",
    "r = embedding(principal_collection = db.Sales_CustomerTransactions_Embeding1, \n",
    "              lookup_collection = \"Project_WWI_Application_PaymentMethods\", match_field1 = \"PaymentMethodID\",\n",
    "              match_field2 = \"PaymentMethodID\", alias = \"Payment_Method\",\n",
    "              merge_into = \"Sales_CustomerTransactions_Embeding2\")\n",
    "\n",
    "r[0]"
   ]
  },
  {
   "cell_type": "code",
   "execution_count": 194,
   "metadata": {},
   "outputs": [],
   "source": [
    "###### can now drop the unnecessary Project_WWI_Application_PaymentMethods table & older PPurchasing_Suppliers_Embeding1 table\n",
    "db['Project_WWI_Application_PaymentMethods'].drop()\n",
    "db['Sales_CustomerTransactions_Embeding1'].drop()"
   ]
  },
  {
   "cell_type": "code",
   "execution_count": 195,
   "metadata": {},
   "outputs": [
    {
     "data": {
      "text/plain": [
       "{'_id': ObjectId('60b3d7cb781dea0108e95714'),\n",
       " 'Comments': nan,\n",
       " 'ContactPersonID': 2,\n",
       " 'Delivery_Method': [{'DeliveryMethodID': 7,\n",
       "   'DeliveryMethodName': 'Road Freight'}],\n",
       " 'ExpectedDeliveryDate': '2013-01-15',\n",
       " 'InternalComments': nan,\n",
       " 'IsOrderFinalized': 1,\n",
       " 'OrderDate': '2013-01-01',\n",
       " 'PurchaseOrderID': 2,\n",
       " 'SupplierID': 4,\n",
       " 'SupplierReference': '293092'}"
      ]
     },
     "execution_count": 195,
     "metadata": {},
     "output_type": "execute_result"
    }
   ],
   "source": [
    "# embed delivery methods into purchase orders\n",
    "r = embedding(principal_collection = db.Purchasing_PurchaseOrders, \n",
    "              lookup_collection = \"Project_WWI_Application_DeliveryMethods\", match_field1 = \"DeliveryMethodID\",\n",
    "              match_field2 = \"DeliveryMethodID\", alias = \"Delivery_Method\",\n",
    "              merge_into = \"Purchasing_PurchaseOrders_Embeding1\")\n",
    "\n",
    "r[1]"
   ]
  },
  {
   "cell_type": "code",
   "execution_count": 196,
   "metadata": {},
   "outputs": [],
   "source": [
    "# can now drop the older Purchasing_PurchaseOrders_Embeding1 table\n",
    "db['Purchasing_PurchaseOrders'].drop()"
   ]
  },
  {
   "cell_type": "code",
   "execution_count": 197,
   "metadata": {},
   "outputs": [
    {
     "data": {
      "text/plain": [
       "{'_id': ObjectId('60b3d7cc781dea0108e968bd'),\n",
       " 'AlternateContactPersonID': 24,\n",
       " 'BankAccountBranch': 'Woodgrove Bank Greenbank',\n",
       " 'BankAccountCode': 358698,\n",
       " 'BankAccountName': 'Contoso Ltd',\n",
       " 'BankAccountNumber': 4587965215,\n",
       " 'BankInternationalCode': 25868,\n",
       " 'DeliveryAddressLine1': 'Unit 2',\n",
       " 'DeliveryAddressLine2': '2934 Night Road',\n",
       " 'DeliveryCity_Details': {'CityID': 13870,\n",
       "  'CityName': 'Greenbank',\n",
       "  'LatestRecordedPopulation': None,\n",
       "  'Location': '0xE6100000010CDA4B6430900C4840C04EFBF7AAA45EC0',\n",
       "  'State_Province_Details': {'Country_Details': {'CountryID': 230,\n",
       "    'CountryName': 'United States',\n",
       "    'FormalName': 'United States of America',\n",
       "    'IsoAlpha3Code': 'USA',\n",
       "    'IsoNumericCode': 840,\n",
       "    'CountryType': 'UN Member State',\n",
       "    'LatestRecordedPopulation': 313973000,\n",
       "    'Continent': 'North America',\n",
       "    'Region': 'Americas',\n",
       "    'Subregion': 'Northern America'},\n",
       "   'LatestRecordedPopulation': 7540272,\n",
       "   'SalesTerritory': 'Far West',\n",
       "   'StateProvinceCode': 'WA',\n",
       "   'StateProvinceID': 50,\n",
       "   'StateProvinceName': 'Washington'}},\n",
       " 'DeliveryLocationLat': 48.0982,\n",
       " 'DeliveryLocationLong': -122.573,\n",
       " 'DeliveryPostalCode': 98253,\n",
       " 'Delivery_Method': [{'DeliveryMethodID': 9,\n",
       "   'DeliveryMethodName': 'Refrigerated Road Freight'}],\n",
       " 'FaxNumber': '(360) 555-0101',\n",
       " 'InternalComments': nan,\n",
       " 'PaymentDays': 7,\n",
       " 'PhoneNumber': '(360) 555-0100',\n",
       " 'PostalAddressLine1': 'PO Box 1012',\n",
       " 'PostalAddressLine2': 'Jolimont',\n",
       " 'PostalCity_Details': {'CityID': 13870,\n",
       "  'CityName': 'Greenbank',\n",
       "  'LatestRecordedPopulation': None,\n",
       "  'Location': '0xE6100000010CDA4B6430900C4840C04EFBF7AAA45EC0',\n",
       "  'State_Province_Details': {'Country_Details': {'CountryID': 230,\n",
       "    'CountryName': 'United States',\n",
       "    'FormalName': 'United States of America',\n",
       "    'IsoAlpha3Code': 'USA',\n",
       "    'IsoNumericCode': 840,\n",
       "    'CountryType': 'UN Member State',\n",
       "    'LatestRecordedPopulation': 313973000,\n",
       "    'Continent': 'North America',\n",
       "    'Region': 'Americas',\n",
       "    'Subregion': 'Northern America'},\n",
       "   'LatestRecordedPopulation': 7540272,\n",
       "   'SalesTerritory': 'Far West',\n",
       "   'StateProvinceCode': 'WA',\n",
       "   'StateProvinceID': 50,\n",
       "   'StateProvinceName': 'Washington'}},\n",
       " 'PostalPostalCode': 98253,\n",
       " 'PrimaryContactPersonID': 23,\n",
       " 'SupplierID': 2,\n",
       " 'SupplierName': 'Contoso, Ltd.',\n",
       " 'SupplierReference': 'B2084020',\n",
       " 'Supplier_Category': {'SupplierCategoryID': 2,\n",
       "  'SupplierCategoryName': 'Novelty Goods Supplier'},\n",
       " 'WebsiteURL': 'http://www.contoso.com'}"
      ]
     },
     "execution_count": 197,
     "metadata": {},
     "output_type": "execute_result"
    }
   ],
   "source": [
    "# embed delivery methods into purchase suppliers\n",
    "r = embedding(principal_collection = db.Purchasing_Suppliers_Embeding3, \n",
    "              lookup_collection = \"Project_WWI_Application_DeliveryMethods\", match_field1 = \"DeliveryMethodID\",\n",
    "              match_field2 = \"DeliveryMethodID\", alias = \"Delivery_Method\",\n",
    "              merge_into = \"Purchasing_Suppliers_Embeding4\")\n",
    "\n",
    "r[1]"
   ]
  },
  {
   "cell_type": "code",
   "execution_count": 198,
   "metadata": {},
   "outputs": [],
   "source": [
    "# can now drop the older Purchasing_Suppliers_Embeding3 table\n",
    "db['Purchasing_Suppliers_Embeding3'].drop()"
   ]
  },
  {
   "cell_type": "code",
   "execution_count": 199,
   "metadata": {},
   "outputs": [
    {
     "data": {
      "text/plain": [
       "{'_id': ObjectId('60b3d7f2781dea0108eaabb9'),\n",
       " 'AccountsPersonID': 3003,\n",
       " 'BillToCustomerID': 803,\n",
       " 'Comments': nan,\n",
       " 'ConfirmedDeliveryTime': '2013-01-02 07:10:00',\n",
       " 'ConfirmedReceivedBy': 'Bala Dixit',\n",
       " 'ContactPersonID': 3003,\n",
       " 'CreditNoteReason': nan,\n",
       " 'CustomerID': 803,\n",
       " 'CustomerPurchaseOrderNumber': 15342,\n",
       " 'DeliveryInstructions': 'Unit 7, 844 Magnusson Lane',\n",
       " 'DeliveryRun': nan,\n",
       " 'Delivery_Method': [{'DeliveryMethodID': 3,\n",
       "   'DeliveryMethodName': 'Delivery Van'}],\n",
       " 'InternalComments': nan,\n",
       " 'InvoiceDate': '2013-01-01',\n",
       " 'InvoiceID': 2,\n",
       " 'IsCreditNote': 0,\n",
       " 'OrderID': 2,\n",
       " 'PackedByPersonID': 14,\n",
       " 'ReturnedDeliveryData': '{\"Events\": [{ \"Event\":\"Ready for collection\",\"EventTime\":\"2013-01-01T12:00:00\",\"ConNote\":\"EAN-125-1052\"},{ \"Event\":\"DeliveryAttempt\",\"EventTime\":\"2013-01-02T07:10:00\",\"ConNote\":\"EAN-125-1052\",\"DriverID\":15,\"Latitude\":40.8657308,\"Longitude\":-120.4602262,\"Status\":\"Delivered\"}],\"DeliveredWhen\":\"2013-01-02T07:10:00\",\"ReceivedBy\":\"Bala Dixit\"}',\n",
       " 'RunPosition': nan,\n",
       " 'SalespersonPersonID': 8,\n",
       " 'TotalChillerItems': 0,\n",
       " 'TotalDryItems': 2}"
      ]
     },
     "execution_count": 199,
     "metadata": {},
     "output_type": "execute_result"
    }
   ],
   "source": [
    "# embed delivery methods into sales invoices\n",
    "r = embedding(principal_collection = db.Sales_Invoices, \n",
    "              lookup_collection = \"Project_WWI_Application_DeliveryMethods\", match_field1 = \"DeliveryMethodID\",\n",
    "              match_field2 = \"DeliveryMethodID\", alias = \"Delivery_Method\",\n",
    "              merge_into = \"Sales_Invoices_Embeding1\")\n",
    "\n",
    "r[1]"
   ]
  },
  {
   "cell_type": "code",
   "execution_count": 200,
   "metadata": {},
   "outputs": [],
   "source": [
    "# can now drop the older Sales_Invoices_Embeding1 table\n",
    "db['Sales_Invoices'].drop()"
   ]
  },
  {
   "cell_type": "code",
   "execution_count": 201,
   "metadata": {},
   "outputs": [
    {
     "data": {
      "text/plain": [
       "{'_id': ObjectId('60b3d7e5781dea0108ea33f2'),\n",
       " 'AccountOpenedDate': '2013-01-01',\n",
       " 'AlternateContactPersonID': 1004.0,\n",
       " 'BillToCustomerID': 1,\n",
       " 'CreditLimit': nan,\n",
       " 'CustomerID': 2,\n",
       " 'CustomerName': 'Tailspin Toys (Sylvanite, MT)',\n",
       " 'Customer_Category': {'CustomerCategoryID': 3,\n",
       "  'CustomerCategoryName': 'Novelty Shop'},\n",
       " 'DeliveryAddressLine1': 'Shop 245',\n",
       " 'DeliveryAddressLine2': '705 Dita Lane',\n",
       " 'DeliveryCity_Details': {'CityID': 33475,\n",
       "  'CityName': 'Sylvanite',\n",
       "  'LatestRecordedPopulation': 103,\n",
       "  'Location': '0xE6100000010CF37A8BE2B05B4840056FA35CF5F75CC0',\n",
       "  'State_Province_Details': {'Country_Details': {'CountryID': 230,\n",
       "    'CountryName': 'United States',\n",
       "    'FormalName': 'United States of America',\n",
       "    'IsoAlpha3Code': 'USA',\n",
       "    'IsoNumericCode': 840,\n",
       "    'CountryType': 'UN Member State',\n",
       "    'LatestRecordedPopulation': 313973000,\n",
       "    'Continent': 'North America',\n",
       "    'Region': 'Americas',\n",
       "    'Subregion': 'Northern America'},\n",
       "   'LatestRecordedPopulation': 1187597,\n",
       "   'SalesTerritory': 'Rocky Mountain',\n",
       "   'StateProvinceCode': 'MT',\n",
       "   'StateProvinceID': 27,\n",
       "   'StateProvinceName': 'Montana'}},\n",
       " 'DeliveryLocationLat': 48.7163,\n",
       " 'DeliveryLocationLong': -115.874,\n",
       " 'DeliveryPostalCode': 90216,\n",
       " 'DeliveryRun': nan,\n",
       " 'Delivery_Method': [{'DeliveryMethodID': 3,\n",
       "   'DeliveryMethodName': 'Delivery Van'}],\n",
       " 'FaxNumber': '(406) 555-0101',\n",
       " 'IsOnCreditHold': 0,\n",
       " 'IsStatementSent': 0,\n",
       " 'PaymentDays': 7,\n",
       " 'PhoneNumber': '(406) 555-0100',\n",
       " 'PostalAddressLine1': 'PO Box 259',\n",
       " 'PostalAddressLine2': 'Jogiville',\n",
       " 'PostalCity_Details': {'CityID': 33475,\n",
       "  'CityName': 'Sylvanite',\n",
       "  'LatestRecordedPopulation': 103,\n",
       "  'Location': '0xE6100000010CF37A8BE2B05B4840056FA35CF5F75CC0',\n",
       "  'State_Province_Details': {'Country_Details': {'CountryID': 230,\n",
       "    'CountryName': 'United States',\n",
       "    'FormalName': 'United States of America',\n",
       "    'IsoAlpha3Code': 'USA',\n",
       "    'IsoNumericCode': 840,\n",
       "    'CountryType': 'UN Member State',\n",
       "    'LatestRecordedPopulation': 313973000,\n",
       "    'Continent': 'North America',\n",
       "    'Region': 'Americas',\n",
       "    'Subregion': 'Northern America'},\n",
       "   'LatestRecordedPopulation': 1187597,\n",
       "   'SalesTerritory': 'Rocky Mountain',\n",
       "   'StateProvinceCode': 'MT',\n",
       "   'StateProvinceID': 27,\n",
       "   'StateProvinceName': 'Montana'}},\n",
       " 'PostalPostalCode': 90216,\n",
       " 'PrimaryContactPersonID': 1003,\n",
       " 'RunPosition': nan,\n",
       " 'StandardDiscountPercentage': 0.0,\n",
       " 'WebsiteURL': 'http://www.tailspintoys.com/Sylvanite'}"
      ]
     },
     "execution_count": 201,
     "metadata": {},
     "output_type": "execute_result"
    }
   ],
   "source": [
    "# embed delivery methods into sales customers\n",
    "r = embedding(principal_collection = db.Sales_Customers_Embeding3, \n",
    "              lookup_collection = \"Project_WWI_Application_DeliveryMethods\", match_field1 = \"DeliveryMethodID\",\n",
    "              match_field2 = \"DeliveryMethodID\", alias = \"Delivery_Method\",\n",
    "              merge_into = \"Sales_Customers_Embeding4\")\n",
    "\n",
    "r[1]"
   ]
  },
  {
   "cell_type": "code",
   "execution_count": 202,
   "metadata": {},
   "outputs": [],
   "source": [
    "# can now drop the older Sales_Customers_Embeding3 table\n",
    "db['Sales_Customers_Embeding3'].drop()"
   ]
  },
  {
   "cell_type": "code",
   "execution_count": 203,
   "metadata": {},
   "outputs": [],
   "source": [
    "# can now drop the unnecessary Project_WWI_Application_DeliveryMethods\n",
    "db['Project_WWI_Application_DeliveryMethods'].drop()"
   ]
  },
  {
   "cell_type": "code",
   "execution_count": 204,
   "metadata": {},
   "outputs": [
    {
     "name": "stdout",
     "output_type": "stream",
     "text": [
      "The database contains 13 collections\n",
      "All collections: ['Project_WWI_Application_People', 'Sales_Orders', 'PurchaseOrderLines_Embeding1', 'Sales_OrderLines_Embeding1', 'Sales_InvoiceLines_Embeding1', 'Purchasing_PurchaseOrders_Embeding1', 'Sales_Invoices_Embeding1', 'Purchasing_SupplierTransactions_Embeding2', 'Warehouse_StockItemTransactions_Embeding1', 'Purchasing_Suppliers_Embeding4', 'Warehouse_StockItems_Embeding4', 'Sales_CustomerTransactions_Embeding2', 'Sales_Customers_Embeding4']\n"
     ]
    }
   ],
   "source": [
    "# check to see if they all embeddings were done correctly\n",
    "collection_list = db.list_collection_names()\n",
    "print(f\"The database contains {len(collection_list)} collections\")\n",
    "\n",
    "print(f\"All collections: {collection_list}\")"
   ]
  },
  {
   "cell_type": "code",
   "execution_count": 205,
   "metadata": {},
   "outputs": [],
   "source": [
    "#for i in collection_list: db[i].drop()"
   ]
  },
  {
   "cell_type": "code",
   "execution_count": 206,
   "metadata": {},
   "outputs": [
    {
     "data": {
      "text/plain": [
       "{'ok': 1.0}"
      ]
     },
     "execution_count": 206,
     "metadata": {},
     "output_type": "execute_result"
    }
   ],
   "source": [
    "# Rename tables to their \"original\" name\n",
    "db.Purchasing_Suppliers_Embeding4.rename(\"Purchasing_Suppliers\")\n",
    "db.Sales_Customers_Embeding4.rename(\"Sales_Customers\")\n",
    "db.PurchaseOrderLines_Embeding1.rename(\"Purchasing_PurchaseOrderLines\")\n",
    "db.Warehouse_StockItemTransactions_Embeding1.rename(\"Warehouse_StockItemTransactions\")\n",
    "db.Sales_OrderLines_Embeding1.rename(\"Sales_OrderLines\")\n",
    "db.Sales_CustomerTransactions_Embeding2.rename(\"Sales_CustomerTransactions\")\n",
    "db.Purchasing_PurchaseOrders_Embeding1.rename(\"Purchasing_PurchaseOrders\")\n",
    "db.Warehouse_StockItems_Embeding4.rename(\"Warehouse_StockItems\")\n",
    "db.Sales_Invoices_Embeding1.rename(\"Sales_Invoices\")\n",
    "db.Purchasing_SupplierTransactions_Embeding2.rename(\"Purchasing_SupplierTransactions\")\n",
    "db.Sales_InvoiceLines_Embeding1.rename(\"Sales_InvoiceLines\")"
   ]
  },
  {
   "cell_type": "markdown",
   "metadata": {},
   "source": [
    "### Extra Personalization"
   ]
  },
  {
   "cell_type": "code",
   "execution_count": 207,
   "metadata": {},
   "outputs": [
    {
     "data": {
      "text/plain": [
       "<pymongo.command_cursor.CommandCursor at 0x235bc9619a0>"
      ]
     },
     "execution_count": 207,
     "metadata": {},
     "output_type": "execute_result"
    }
   ],
   "source": [
    "# Merge informations about the same thing into only one field - Sales Customers \n",
    "query_1 ={\n",
    "    \"$project\": {\n",
    "            \"Delivery\": {\n",
    "                \"AddressLine1\": \"$DeliveryAddressLine1\", \n",
    "                \"AddressLine2\": \"$DeliveryAddressLine2\",\n",
    "                \"PostalCode\": \"$DeliveryPostalCode\",\n",
    "                \"Run\": \"$DeliveryRun\"\n",
    "            },\n",
    "            \"Postal\": {\n",
    "                \"AddressLine1\": \"$PostalAddressLine1\", \n",
    "                \"AddressLine2\": \"$PostalAddressLine2\",\n",
    "                \"PostalCode\": \"$PostalPostalCode\"\n",
    "            }\n",
    "        }\n",
    "}\n",
    "\n",
    "query_2 = { \n",
    "        \"$merge\" : {\n",
    "            \"into\" : \"Sales_Customers1\",\n",
    "            \"whenMatched\": \"merge\"\n",
    "        } \n",
    "    }\n",
    "\n",
    "db.Sales_Customers.aggregate([query_1,query_2])"
   ]
  },
  {
   "cell_type": "code",
   "execution_count": 225,
   "metadata": {},
   "outputs": [],
   "source": [
    "query_1 = {\n",
    "        \"$lookup\":{\n",
    "           \"from\": \"Sales_Customers1\",\n",
    "           \"localField\": \"_id\",\n",
    "           \"foreignField\": \"_id\",\n",
    "           \"as\": \"extra_info\"\n",
    "        }\n",
    "    }\n",
    "\n",
    "unwind = {'$unwind': '$extra_info'}\n",
    "\n",
    "query_2 = {\n",
    "        \"$project\":{\n",
    "           \"extra_info._id\": 0\n",
    "        }\n",
    "    }\n",
    "\n",
    "query_3 ={\n",
    "    \"$addFields\": { \"Delivery\": \"$extra_info.Delivery\", \"Postal\": \"$extra_info.Postal\"}\n",
    "        }\n",
    "\n",
    "query_4 = { \n",
    "        \"$merge\" : {\n",
    "            \"into\" : \"Sales_Customers2\",\n",
    "            \"whenMatched\": \"merge\"\n",
    "        } \n",
    "    }\n",
    "\n",
    "pipeline = [query_1, query_2, unwind, query_3, query_4]\n",
    "\n",
    "r = db.Sales_Customers.aggregate(pipeline)"
   ]
  },
  {
   "cell_type": "code",
   "execution_count": 226,
   "metadata": {},
   "outputs": [
    {
     "data": {
      "text/plain": [
       "{'_id': ObjectId('60b3d7e5781dea0108ea33f1'),\n",
       " 'AccountOpenedDate': '2013-01-01',\n",
       " 'AlternateContactPersonID': 1002.0,\n",
       " 'BillToCustomerID': 1,\n",
       " 'CreditLimit': nan,\n",
       " 'CustomerID': 1,\n",
       " 'CustomerName': 'Tailspin Toys (Head Office)',\n",
       " 'Customer_Category': {'CustomerCategoryID': 3,\n",
       "  'CustomerCategoryName': 'Novelty Shop'},\n",
       " 'Delivery': {'AddressLine1': 'Shop 38',\n",
       "  'AddressLine2': '1877 Mittal Road',\n",
       "  'PostalCode': 90410,\n",
       "  'Run': nan},\n",
       " 'DeliveryAddressLine1': 'Shop 38',\n",
       " 'DeliveryAddressLine2': '1877 Mittal Road',\n",
       " 'DeliveryCity_Details': {'CityID': 19586,\n",
       "  'CityName': 'Lisco',\n",
       "  'LatestRecordedPopulation': None,\n",
       "  'Location': '0xE6100000010CE73F5A52A4BF444010638852B1A759C0',\n",
       "  'State_Province_Details': {'Country_Details': {'CountryID': 230,\n",
       "    'CountryName': 'United States',\n",
       "    'FormalName': 'United States of America',\n",
       "    'IsoAlpha3Code': 'USA',\n",
       "    'IsoNumericCode': 840,\n",
       "    'CountryType': 'UN Member State',\n",
       "    'LatestRecordedPopulation': 313973000,\n",
       "    'Continent': 'North America',\n",
       "    'Region': 'Americas',\n",
       "    'Subregion': 'Northern America'},\n",
       "   'LatestRecordedPopulation': 1943256,\n",
       "   'SalesTerritory': 'Plains',\n",
       "   'StateProvinceCode': 'NE',\n",
       "   'StateProvinceID': 28,\n",
       "   'StateProvinceName': 'Nebraska'}},\n",
       " 'DeliveryLocationLat': 41.4972,\n",
       " 'DeliveryLocationLong': -102.62,\n",
       " 'DeliveryPostalCode': 90410,\n",
       " 'DeliveryRun': nan,\n",
       " 'Delivery_Method': [{'DeliveryMethodID': 3,\n",
       "   'DeliveryMethodName': 'Delivery Van'}],\n",
       " 'FaxNumber': '(308) 555-0101',\n",
       " 'IsOnCreditHold': 0,\n",
       " 'IsStatementSent': 0,\n",
       " 'PaymentDays': 7,\n",
       " 'PhoneNumber': '(308) 555-0100',\n",
       " 'Postal': {'AddressLine1': 'PO Box 8975',\n",
       "  'AddressLine2': 'Ribeiroville',\n",
       "  'PostalCode': 90410},\n",
       " 'PostalAddressLine1': 'PO Box 8975',\n",
       " 'PostalAddressLine2': 'Ribeiroville',\n",
       " 'PostalCity_Details': {'CityID': 19586,\n",
       "  'CityName': 'Lisco',\n",
       "  'LatestRecordedPopulation': None,\n",
       "  'Location': '0xE6100000010CE73F5A52A4BF444010638852B1A759C0',\n",
       "  'State_Province_Details': {'Country_Details': {'CountryID': 230,\n",
       "    'CountryName': 'United States',\n",
       "    'FormalName': 'United States of America',\n",
       "    'IsoAlpha3Code': 'USA',\n",
       "    'IsoNumericCode': 840,\n",
       "    'CountryType': 'UN Member State',\n",
       "    'LatestRecordedPopulation': 313973000,\n",
       "    'Continent': 'North America',\n",
       "    'Region': 'Americas',\n",
       "    'Subregion': 'Northern America'},\n",
       "   'LatestRecordedPopulation': 1943256,\n",
       "   'SalesTerritory': 'Plains',\n",
       "   'StateProvinceCode': 'NE',\n",
       "   'StateProvinceID': 28,\n",
       "   'StateProvinceName': 'Nebraska'}},\n",
       " 'PostalPostalCode': 90410,\n",
       " 'PrimaryContactPersonID': 1001,\n",
       " 'RunPosition': nan,\n",
       " 'StandardDiscountPercentage': 0.0,\n",
       " 'WebsiteURL': 'http://www.tailspintoys.com',\n",
       " 'extra_info': {'Delivery': {'AddressLine1': 'Shop 38',\n",
       "   'AddressLine2': '1877 Mittal Road',\n",
       "   'PostalCode': 90410,\n",
       "   'Run': nan},\n",
       "  'Postal': {'AddressLine1': 'PO Box 8975',\n",
       "   'AddressLine2': 'Ribeiroville',\n",
       "   'PostalCode': 90410}}}"
      ]
     },
     "execution_count": 226,
     "metadata": {},
     "output_type": "execute_result"
    }
   ],
   "source": [
    "list(db.Sales_Customers2.find())[0]"
   ]
  },
  {
   "cell_type": "code",
   "execution_count": 227,
   "metadata": {},
   "outputs": [
    {
     "data": {
      "text/plain": [
       "<pymongo.results.UpdateResult at 0x235af693400>"
      ]
     },
     "execution_count": 227,
     "metadata": {},
     "output_type": "execute_result"
    }
   ],
   "source": [
    "# delete previous fields\n",
    "db.Sales_Customers2.update_many(\n",
    "   {},\n",
    "    {\"$unset\": { \"DeliveryAddressLine1\": \"\", \"DeliveryAddressLine2\": \"\", \n",
    "                          \"DeliveryPostalCode\": \"\", \n",
    "                          \"DeliveryRun\": \"\", \n",
    "                          \"PostalAddressLine1\": \"\", \"PostalAddressLine2\": \"\", \n",
    "                          \"PostalPostalCode\": \"\", \"extra_info\": \"\"} }\n",
    ")"
   ]
  },
  {
   "cell_type": "code",
   "execution_count": 228,
   "metadata": {},
   "outputs": [
    {
     "data": {
      "text/plain": [
       "{'_id': ObjectId('60b3d7e5781dea0108ea33f1'),\n",
       " 'AccountOpenedDate': '2013-01-01',\n",
       " 'AlternateContactPersonID': 1002.0,\n",
       " 'BillToCustomerID': 1,\n",
       " 'CreditLimit': nan,\n",
       " 'CustomerID': 1,\n",
       " 'CustomerName': 'Tailspin Toys (Head Office)',\n",
       " 'Customer_Category': {'CustomerCategoryID': 3,\n",
       "  'CustomerCategoryName': 'Novelty Shop'},\n",
       " 'Delivery': {'AddressLine1': 'Shop 38',\n",
       "  'AddressLine2': '1877 Mittal Road',\n",
       "  'PostalCode': 90410,\n",
       "  'Run': nan},\n",
       " 'DeliveryCity_Details': {'CityID': 19586,\n",
       "  'CityName': 'Lisco',\n",
       "  'LatestRecordedPopulation': None,\n",
       "  'Location': '0xE6100000010CE73F5A52A4BF444010638852B1A759C0',\n",
       "  'State_Province_Details': {'Country_Details': {'CountryID': 230,\n",
       "    'CountryName': 'United States',\n",
       "    'FormalName': 'United States of America',\n",
       "    'IsoAlpha3Code': 'USA',\n",
       "    'IsoNumericCode': 840,\n",
       "    'CountryType': 'UN Member State',\n",
       "    'LatestRecordedPopulation': 313973000,\n",
       "    'Continent': 'North America',\n",
       "    'Region': 'Americas',\n",
       "    'Subregion': 'Northern America'},\n",
       "   'LatestRecordedPopulation': 1943256,\n",
       "   'SalesTerritory': 'Plains',\n",
       "   'StateProvinceCode': 'NE',\n",
       "   'StateProvinceID': 28,\n",
       "   'StateProvinceName': 'Nebraska'}},\n",
       " 'DeliveryLocationLat': 41.4972,\n",
       " 'DeliveryLocationLong': -102.62,\n",
       " 'Delivery_Method': [{'DeliveryMethodID': 3,\n",
       "   'DeliveryMethodName': 'Delivery Van'}],\n",
       " 'FaxNumber': '(308) 555-0101',\n",
       " 'IsOnCreditHold': 0,\n",
       " 'IsStatementSent': 0,\n",
       " 'PaymentDays': 7,\n",
       " 'PhoneNumber': '(308) 555-0100',\n",
       " 'Postal': {'AddressLine1': 'PO Box 8975',\n",
       "  'AddressLine2': 'Ribeiroville',\n",
       "  'PostalCode': 90410},\n",
       " 'PostalCity_Details': {'CityID': 19586,\n",
       "  'CityName': 'Lisco',\n",
       "  'LatestRecordedPopulation': None,\n",
       "  'Location': '0xE6100000010CE73F5A52A4BF444010638852B1A759C0',\n",
       "  'State_Province_Details': {'Country_Details': {'CountryID': 230,\n",
       "    'CountryName': 'United States',\n",
       "    'FormalName': 'United States of America',\n",
       "    'IsoAlpha3Code': 'USA',\n",
       "    'IsoNumericCode': 840,\n",
       "    'CountryType': 'UN Member State',\n",
       "    'LatestRecordedPopulation': 313973000,\n",
       "    'Continent': 'North America',\n",
       "    'Region': 'Americas',\n",
       "    'Subregion': 'Northern America'},\n",
       "   'LatestRecordedPopulation': 1943256,\n",
       "   'SalesTerritory': 'Plains',\n",
       "   'StateProvinceCode': 'NE',\n",
       "   'StateProvinceID': 28,\n",
       "   'StateProvinceName': 'Nebraska'}},\n",
       " 'PrimaryContactPersonID': 1001,\n",
       " 'RunPosition': nan,\n",
       " 'StandardDiscountPercentage': 0.0,\n",
       " 'WebsiteURL': 'http://www.tailspintoys.com'}"
      ]
     },
     "execution_count": 228,
     "metadata": {},
     "output_type": "execute_result"
    }
   ],
   "source": [
    "r = list(db.Sales_Customers2.find({}))\n",
    "\n",
    "r[0]"
   ]
  },
  {
   "cell_type": "code",
   "execution_count": 229,
   "metadata": {},
   "outputs": [],
   "source": [
    "# drop auxiliar collections\n",
    "db['Sales_Customers'].drop()\n",
    "db['Sales_Customers1'].drop()"
   ]
  },
  {
   "cell_type": "code",
   "execution_count": 230,
   "metadata": {},
   "outputs": [
    {
     "data": {
      "text/plain": [
       "{'ok': 1.0}"
      ]
     },
     "execution_count": 230,
     "metadata": {},
     "output_type": "execute_result"
    }
   ],
   "source": [
    "#### rename 2 back to normal\n",
    "db.Sales_Customers2.rename(\"Sales_Customers\")"
   ]
  },
  {
   "cell_type": "code",
   "execution_count": 231,
   "metadata": {},
   "outputs": [
    {
     "data": {
      "text/plain": [
       "<pymongo.command_cursor.CommandCursor at 0x235af07d7f0>"
      ]
     },
     "execution_count": 231,
     "metadata": {},
     "output_type": "execute_result"
    }
   ],
   "source": [
    "# Merge informations about the same thing into only one field - Purchasing Suppliers\n",
    "query_1 ={\n",
    "        \"$project\": {\n",
    "            \"BankAccount\": {\n",
    "                \"Name\": \"$BankAccountName\", \n",
    "                \"Branch\": \"$BankAccountBranch\",\n",
    "                \"Code\": \"$BankAccountCode\",\n",
    "                \"Number\": \"$BankAccountNumber\"\n",
    "            },\n",
    "            \"Delivery\": {\n",
    "                \"AddressLine1\": \"$DeliveryAddressLine1\", \n",
    "                \"AddressLine2\": \"$DeliveryAddressLine2\",\n",
    "                \"PostalCode\": \"$DeliveryPostalCode\"\n",
    "            },\n",
    "            \"Postal\": {\n",
    "                \"AddressLine1\": \"$PostalAddressLine1\", \n",
    "                \"AddressLine2\": \"$PostalAddressLine2\",\n",
    "                \"PostalCode\": \"$PostalPostalCode\"\n",
    "            }\n",
    "        }\n",
    "    }\n",
    "\n",
    "query_2 = { \n",
    "        \"$merge\" : {\n",
    "            \"into\" : \"Purchasing_Suppliers1\",\n",
    "            \"whenMatched\": \"merge\"\n",
    "        } \n",
    "    }\n",
    "\n",
    "db.Purchasing_Suppliers.aggregate([query_1,query_2])"
   ]
  },
  {
   "cell_type": "code",
   "execution_count": 232,
   "metadata": {},
   "outputs": [],
   "source": [
    "query_1 = {\n",
    "        \"$lookup\":{\n",
    "           \"from\": \"Purchasing_Suppliers1\",\n",
    "           \"localField\": \"_id\",\n",
    "           \"foreignField\": \"_id\",\n",
    "           \"as\": \"extra_info\"\n",
    "        }\n",
    "    }\n",
    "\n",
    "unwind = {'$unwind': '$extra_info'}\n",
    "\n",
    "query_2 = {\n",
    "        \"$project\":{\n",
    "           \"extra_info._id\": 0\n",
    "        }\n",
    "    }\n",
    "\n",
    "query_3 ={\n",
    "    \"$addFields\": { \"BankAccount\": \"$extra_info.BankAccount\", \"Delivery\": \"$extra_info.Delivery\", \"Postal\": \"$extra_info.Postal\"} }\n",
    "\n",
    "query_4 = { \n",
    "        \"$merge\" : {\n",
    "            \"into\" : \"Purchasing_Suppliers2\",\n",
    "            \"whenMatched\": \"merge\"\n",
    "        } \n",
    "    }\n",
    "\n",
    "pipeline = [query_1, query_2, unwind, query_3, query_4]\n",
    "\n",
    "r = db.Purchasing_Suppliers.aggregate(pipeline)"
   ]
  },
  {
   "cell_type": "code",
   "execution_count": 233,
   "metadata": {},
   "outputs": [
    {
     "data": {
      "text/plain": [
       "<pymongo.results.UpdateResult at 0x235ac8ad400>"
      ]
     },
     "execution_count": 233,
     "metadata": {},
     "output_type": "execute_result"
    }
   ],
   "source": [
    "# delete previous fields\n",
    "db.Purchasing_Suppliers2.update_many(\n",
    "   {},\n",
    "   {\"$unset\": {\"BankAccountName\":\"\", \"BankAccountBranch\":\"\",\n",
    "               \"BankAccountCode\":\"\", \"BankAccountNumber\":\"\",\n",
    "               \"DeliveryAddressLine1\": \"\", \"DeliveryAddressLine2\": \"\", \n",
    "               \"DeliveryPostalCode\": \"\", \"DeliveryLocationLat\": \"\", \"DeliveryLocationLong\": \"\", \n",
    "               \"PostalAddressLine1\": \"\", \"PostalAddressLine2\": \"\", \n",
    "               \"PostalPostalCode\": \"\", \"extra_info\": \"\"} }\n",
    ")"
   ]
  },
  {
   "cell_type": "code",
   "execution_count": 234,
   "metadata": {},
   "outputs": [
    {
     "data": {
      "text/plain": [
       "{'_id': ObjectId('60b3d7cc781dea0108e968bc'),\n",
       " 'AlternateContactPersonID': 22,\n",
       " 'BankAccount': {'Name': 'A Datum Corporation',\n",
       "  'Branch': 'Woodgrove Bank Zionsville',\n",
       "  'Code': 356981,\n",
       "  'Number': 8575824136},\n",
       " 'BankInternationalCode': 25986,\n",
       " 'Delivery': {'AddressLine1': 'Suite 10',\n",
       "  'AddressLine2': '183838 Southwest Boulevard',\n",
       "  'PostalCode': 46077},\n",
       " 'DeliveryCity_Details': {'CityID': 38171,\n",
       "  'CityName': 'Zionsville',\n",
       "  'LatestRecordedPopulation': 14160,\n",
       "  'Location': '0xE6100000010CDE115F37B6F9434031276893C39055C0',\n",
       "  'State_Province_Details': {'Country_Details': {'CountryID': 230,\n",
       "    'CountryName': 'United States',\n",
       "    'FormalName': 'United States of America',\n",
       "    'IsoAlpha3Code': 'USA',\n",
       "    'IsoNumericCode': 840,\n",
       "    'CountryType': 'UN Member State',\n",
       "    'LatestRecordedPopulation': 313973000,\n",
       "    'Continent': 'North America',\n",
       "    'Region': 'Americas',\n",
       "    'Subregion': 'Northern America'},\n",
       "   'LatestRecordedPopulation': 6570902,\n",
       "   'SalesTerritory': 'Great Lakes',\n",
       "   'StateProvinceCode': 'IN',\n",
       "   'StateProvinceID': 15,\n",
       "   'StateProvinceName': 'Indiana'}},\n",
       " 'Delivery_Method': [{'DeliveryMethodID': 7,\n",
       "   'DeliveryMethodName': 'Road Freight'}],\n",
       " 'FaxNumber': '(847) 555-0101',\n",
       " 'InternalComments': nan,\n",
       " 'PaymentDays': 14,\n",
       " 'PhoneNumber': '(847) 555-0100',\n",
       " 'Postal': {'AddressLine1': 'PO Box 1039',\n",
       "  'AddressLine2': 'Surrey',\n",
       "  'PostalCode': 46077},\n",
       " 'PostalCity_Details': {'CityID': 38171,\n",
       "  'CityName': 'Zionsville',\n",
       "  'LatestRecordedPopulation': 14160,\n",
       "  'Location': '0xE6100000010CDE115F37B6F9434031276893C39055C0',\n",
       "  'State_Province_Details': {'Country_Details': {'CountryID': 230,\n",
       "    'CountryName': 'United States',\n",
       "    'FormalName': 'United States of America',\n",
       "    'IsoAlpha3Code': 'USA',\n",
       "    'IsoNumericCode': 840,\n",
       "    'CountryType': 'UN Member State',\n",
       "    'LatestRecordedPopulation': 313973000,\n",
       "    'Continent': 'North America',\n",
       "    'Region': 'Americas',\n",
       "    'Subregion': 'Northern America'},\n",
       "   'LatestRecordedPopulation': 6570902,\n",
       "   'SalesTerritory': 'Great Lakes',\n",
       "   'StateProvinceCode': 'IN',\n",
       "   'StateProvinceID': 15,\n",
       "   'StateProvinceName': 'Indiana'}},\n",
       " 'PrimaryContactPersonID': 21,\n",
       " 'SupplierID': 1,\n",
       " 'SupplierName': 'A Datum Corporation',\n",
       " 'SupplierReference': 'AA20384',\n",
       " 'Supplier_Category': {'SupplierCategoryID': 2,\n",
       "  'SupplierCategoryName': 'Novelty Goods Supplier'},\n",
       " 'WebsiteURL': 'http://www.adatum.com'}"
      ]
     },
     "execution_count": 234,
     "metadata": {},
     "output_type": "execute_result"
    }
   ],
   "source": [
    "r = list(db.Purchasing_Suppliers2.find({}))\n",
    "\n",
    "r[0]"
   ]
  },
  {
   "cell_type": "code",
   "execution_count": 235,
   "metadata": {},
   "outputs": [],
   "source": [
    "# drop auxiliar collections\n",
    "db['Purchasing_Suppliers'].drop()\n",
    "db['Purchasing_Suppliers1'].drop()"
   ]
  },
  {
   "cell_type": "code",
   "execution_count": 236,
   "metadata": {},
   "outputs": [
    {
     "data": {
      "text/plain": [
       "{'ok': 1.0}"
      ]
     },
     "execution_count": 236,
     "metadata": {},
     "output_type": "execute_result"
    }
   ],
   "source": [
    "#### rename 2 back to normal\n",
    "db.Purchasing_Suppliers2.rename(\"Purchasing_Suppliers\")"
   ]
  },
  {
   "cell_type": "markdown",
   "metadata": {},
   "source": [
    "### Add new fields with useful information to retrieve "
   ]
  },
  {
   "cell_type": "code",
   "execution_count": 237,
   "metadata": {},
   "outputs": [
    {
     "data": {
      "text/plain": [
       "<pymongo.command_cursor.CommandCursor at 0x235acd3a520>"
      ]
     },
     "execution_count": 237,
     "metadata": {},
     "output_type": "execute_result"
    }
   ],
   "source": [
    "# Total price by item multiplying the fields unitprice * quantity\n",
    "db.Sales_OrderLines.aggregate( [\n",
    "   {\n",
    "     \"$addFields\": { \"TotalItemPrice\":\n",
    "       { \"$multiply\": [ \"$UnitPrice\", \"$Quantity\" ] } }\n",
    "   },\n",
    "    \n",
    "    { \n",
    "        \"$merge\" : {\n",
    "            \"into\" : \"Sales_OrdersLines2\",\n",
    "            \"whenMatched\": \"merge\"\n",
    "        } \n",
    "    }\n",
    "\n",
    "] )\n",
    "\n",
    "db.Sales_InvoiceLines.aggregate( [\n",
    "   {\n",
    "     \"$addFields\": { \"TotalItemPrice\":\n",
    "       { \"$multiply\": [ \"$UnitPrice\", \"$Quantity\" ] } }\n",
    "   },\n",
    "    { \n",
    "        \"$merge\" : {\n",
    "            \"into\" : \"Sales_InvoicesLines2\",\n",
    "            \"whenMatched\": \"merge\"\n",
    "        } \n",
    "    }\n",
    "] )"
   ]
  },
  {
   "cell_type": "code",
   "execution_count": 238,
   "metadata": {},
   "outputs": [],
   "source": [
    "# drop previous ones\n",
    "db['Sales_InvoiceLines'].drop()\n",
    "db['Sales_OrderLines'].drop()"
   ]
  },
  {
   "cell_type": "code",
   "execution_count": 239,
   "metadata": {},
   "outputs": [
    {
     "data": {
      "text/plain": [
       "{'ok': 1.0}"
      ]
     },
     "execution_count": 239,
     "metadata": {},
     "output_type": "execute_result"
    }
   ],
   "source": [
    "#### rename news to normal\n",
    "db.Sales_OrdersLines2.rename(\"Sales_OrderLines\")\n",
    "db.Sales_InvoicesLines2.rename(\"Sales_InvoiceLines\")"
   ]
  },
  {
   "cell_type": "markdown",
   "metadata": {},
   "source": [
    "### Create one new collection with all the transactions from customers and suppliers"
   ]
  },
  {
   "cell_type": "code",
   "execution_count": 240,
   "metadata": {},
   "outputs": [
    {
     "data": {
      "text/plain": [
       "<pymongo.command_cursor.CommandCursor at 0x235aa0bb190>"
      ]
     },
     "execution_count": 240,
     "metadata": {},
     "output_type": "execute_result"
    }
   ],
   "source": [
    "db.Sales_CustomerTransactions.aggregate([\n",
    "    {\"$project\":{\n",
    "        \"_id\": 1,\n",
    "       \"Payment_Method\": 1,\n",
    "       \"TransactionAmount\": 1,\n",
    "       \"TransactionDate\": 1,\n",
    "       \"Transaction_Type\": 1}\n",
    "            \n",
    "        },\n",
    "    { \n",
    "        \"$merge\" : {\n",
    "            \"into\" : \"Transactions\",\n",
    "            \"whenMatched\": \"merge\"\n",
    "        } \n",
    "    }\n",
    "])"
   ]
  },
  {
   "cell_type": "code",
   "execution_count": 241,
   "metadata": {},
   "outputs": [
    {
     "data": {
      "text/plain": [
       "<pymongo.command_cursor.CommandCursor at 0x235af122700>"
      ]
     },
     "execution_count": 241,
     "metadata": {},
     "output_type": "execute_result"
    }
   ],
   "source": [
    "db.Purchasing_SupplierTransactions.aggregate([\n",
    "    {\"$project\":{\n",
    "        \"_id\": 1,\n",
    "       \"Payment_Method\": 1,\n",
    "       \"TransactionAmount\": 1,\n",
    "       \"TransactionDate\": 1,\n",
    "       \"Transaction_Type\": 1}\n",
    "            \n",
    "        },\n",
    "    { \n",
    "        \"$merge\" : {\n",
    "            \"into\" : \"Transactions\",\n",
    "            \"whenMatched\": \"merge\"\n",
    "        } \n",
    "    }\n",
    "])"
   ]
  },
  {
   "cell_type": "code",
   "execution_count": 242,
   "metadata": {},
   "outputs": [
    {
     "data": {
      "text/plain": [
       "{'_id': ObjectId('60b3d7cd781dea0108e968d2'),\n",
       " 'Payment_Method': [],\n",
       " 'TransactionAmount': 465.75,\n",
       " 'TransactionDate': '2013-01-01',\n",
       " 'Transaction_Type': {'TransactionTypeID': 1,\n",
       "  'TransactionTypeName': 'Customer Invoice'}}"
      ]
     },
     "execution_count": 242,
     "metadata": {},
     "output_type": "execute_result"
    }
   ],
   "source": [
    "list(db.Transactions.find())[1]"
   ]
  },
  {
   "cell_type": "code",
   "execution_count": 243,
   "metadata": {},
   "outputs": [
    {
     "data": {
      "text/plain": [
       "{'_id': ObjectId('60b3d7cc781dea0108e95f36'),\n",
       " 'Payment_Method': [{'PaymentMethodID': 4, 'PaymentMethodName': 'EFT'}],\n",
       " 'TransactionAmount': 360.53,\n",
       " 'TransactionDate': '2013-01-02',\n",
       " 'Transaction_Type': {'TransactionTypeID': 5,\n",
       "  'TransactionTypeName': 'Supplier Invoice'}}"
      ]
     },
     "execution_count": 243,
     "metadata": {},
     "output_type": "execute_result"
    }
   ],
   "source": [
    "list(db.Transactions.find())[52000]"
   ]
  },
  {
   "cell_type": "code",
   "execution_count": 244,
   "metadata": {},
   "outputs": [
    {
     "name": "stdout",
     "output_type": "stream",
     "text": [
      "The database contains 14 collections\n",
      "All collections: ['Project_WWI_Application_People', 'Purchasing_Suppliers', 'Sales_Orders', 'Purchasing_PurchaseOrderLines', 'Sales_Customers', 'Purchasing_PurchaseOrders', 'Sales_Invoices', 'Purchasing_SupplierTransactions', 'Warehouse_StockItemTransactions', 'Transactions', 'Sales_InvoiceLines', 'Warehouse_StockItems', 'Sales_CustomerTransactions', 'Sales_OrderLines']\n"
     ]
    }
   ],
   "source": [
    "# check to see if they all embeddings were done correctly\n",
    "collection_list = db.list_collection_names()\n",
    "print(f\"The database contains {len(collection_list)} collections\")\n",
    "\n",
    "print(f\"All collections: {collection_list}\")"
   ]
  },
  {
   "cell_type": "code",
   "execution_count": null,
   "metadata": {},
   "outputs": [],
   "source": []
  }
 ],
 "metadata": {
  "kernelspec": {
   "display_name": "Python 3",
   "language": "python",
   "name": "python3"
  },
  "language_info": {
   "codemirror_mode": {
    "name": "ipython",
    "version": 3
   },
   "file_extension": ".py",
   "mimetype": "text/x-python",
   "name": "python",
   "nbconvert_exporter": "python",
   "pygments_lexer": "ipython3",
   "version": "3.8.3"
  }
 },
 "nbformat": 4,
 "nbformat_minor": 4
}
