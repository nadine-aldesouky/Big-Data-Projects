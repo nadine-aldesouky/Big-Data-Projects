{
 "cells": [
  {
   "cell_type": "markdown",
   "metadata": {},
   "source": [
    "# Big Data Modeling and Management 2021\n",
    "\n",
    "\n",
    "## 🚚 BDMM Third Homework Assignment 🚚 \n",
    "\n",
    "### Part 2 - Queries"
   ]
  },
  {
   "cell_type": "code",
   "execution_count": 1,
   "metadata": {},
   "outputs": [],
   "source": [
    "from pymongo import MongoClient, GEOSPHERE\n",
    "from bson.objectid import ObjectId\n",
    "from pprint import pprint\n",
    "import numpy as np\n",
    "\n",
    "\n",
    "host=\"rhea.isegi.unl.pt\"\n",
    "port=\"27039\"\n",
    "user=\"GROUP_22\"\n",
    "password=\"AW319u0374I82895091g8k9291991eJV\"\n",
    "protocol=\"mongodb\"\n",
    "database = 'WWI'\n",
    "client = MongoClient(f\"{protocol}://{user}:{password}@{host}:{port}\")"
   ]
  },
  {
   "cell_type": "code",
   "execution_count": 2,
   "metadata": {},
   "outputs": [
    {
     "name": "stdout",
     "output_type": "stream",
     "text": [
      "Database info: Database(MongoClient(host=['rhea.isegi.unl.pt:27039'], document_class=dict, tz_aware=False, connect=True), 'WWI')\n",
      "\n"
     ]
    }
   ],
   "source": [
    "db = client.WWI\n",
    "print(f\"Database info: {db}\\n\")"
   ]
  },
  {
   "cell_type": "code",
   "execution_count": 3,
   "metadata": {},
   "outputs": [
    {
     "name": "stdout",
     "output_type": "stream",
     "text": [
      "The database contains 14collections\n",
      "All collections: ['Project_WWI_Application_People', 'Purchasing_Suppliers', 'Sales_Orders', 'Purchasing_PurchaseOrderLines', 'Sales_Customers', 'Purchasing_PurchaseOrders', 'Sales_Invoices', 'Purchasing_SupplierTransactions', 'Warehouse_StockItemTransactions', 'Transactions', 'Sales_InvoiceLines', 'Warehouse_StockItems', 'Sales_CustomerTransactions', 'Sales_OrderLines']\n"
     ]
    }
   ],
   "source": [
    "# check to see if they all embeddings were done correctly\n",
    "collection_list = db.list_collection_names()\n",
    "print(f\"The database contains {len(collection_list)} collections\")\n",
    "\n",
    "print(f\"All collections: {collection_list}\")"
   ]
  },
  {
   "cell_type": "markdown",
   "metadata": {},
   "source": [
    "## The web team needs:"
   ]
  },
  {
   "cell_type": "markdown",
   "metadata": {},
   "source": [
    "#### From which state province are our suppliers from?"
   ]
  },
  {
   "cell_type": "code",
   "execution_count": 4,
   "metadata": {},
   "outputs": [
    {
     "data": {
      "text/plain": [
       "['California',\n",
       " 'Indiana',\n",
       " 'Kentucky',\n",
       " 'Minnesota',\n",
       " 'Missouri',\n",
       " 'New Jersey',\n",
       " 'North Carolina',\n",
       " 'South Dakota',\n",
       " 'Tennessee',\n",
       " 'Washington']"
      ]
     },
     "execution_count": 4,
     "metadata": {},
     "output_type": "execute_result"
    }
   ],
   "source": [
    "db.Purchasing_Suppliers.distinct('DeliveryCity_Details.State_Province_Details.StateProvinceName')"
   ]
  },
  {
   "cell_type": "markdown",
   "metadata": {},
   "source": [
    "#### From which state province are the customers who have a higher credit limit?"
   ]
  },
  {
   "cell_type": "code",
   "execution_count": 5,
   "metadata": {},
   "outputs": [
    {
     "data": {
      "text/plain": [
       "[{'_id': {'StateProvinceName': 'Nevada'}, 'avg': 3600.0},\n",
       " {'_id': {'StateProvinceName': 'Oregon'}, 'avg': 3530.0},\n",
       " {'_id': {'StateProvinceName': 'Connecticut'}, 'avg': 3500.0},\n",
       " {'_id': {'StateProvinceName': 'Tennessee'}, 'avg': 3465.0},\n",
       " {'_id': {'StateProvinceName': 'Wyoming'}, 'avg': 3365.0},\n",
       " {'_id': {'StateProvinceName': 'Utah'}, 'avg': 3200.0},\n",
       " {'_id': {'StateProvinceName': 'Indiana'}, 'avg': 3098.75},\n",
       " {'_id': {'StateProvinceName': 'Arkansas'}, 'avg': 3044.1666666666665},\n",
       " {'_id': {'StateProvinceName': 'Arizona'}, 'avg': 2950.0},\n",
       " {'_id': {'StateProvinceName': 'Ohio'}, 'avg': 2942.8571428571427},\n",
       " {'_id': {'StateProvinceName': 'Virginia'}, 'avg': 2915.0},\n",
       " {'_id': {'StateProvinceName': 'Kansas'}, 'avg': 2900.0},\n",
       " {'_id': {'StateProvinceName': 'Alaska'}, 'avg': 2858.3333333333335},\n",
       " {'_id': {'StateProvinceName': 'Oklahoma'}, 'avg': 2806.0},\n",
       " {'_id': {'StateProvinceName': 'New Hampshire'}, 'avg': 2800.0},\n",
       " {'_id': {'StateProvinceName': 'Florida'}, 'avg': 2800.0},\n",
       " {'_id': {'StateProvinceName': 'California'}, 'avg': 2787.3076923076924},\n",
       " {'_id': {'StateProvinceName': 'Michigan'}, 'avg': 2773.3333333333335},\n",
       " {'_id': {'StateProvinceName': 'Puerto Rico (US Territory)'},\n",
       "  'avg': 2766.6666666666665},\n",
       " {'_id': {'StateProvinceName': 'New York'}, 'avg': 2758.9285714285716},\n",
       " {'_id': {'StateProvinceName': 'South Dakota'}, 'avg': 2747.5},\n",
       " {'_id': {'StateProvinceName': 'New Mexico'}, 'avg': 2741.0},\n",
       " {'_id': {'StateProvinceName': 'Idaho'}, 'avg': 2700.0},\n",
       " {'_id': {'StateProvinceName': 'North Carolina'}, 'avg': 2661.3636363636365},\n",
       " {'_id': {'StateProvinceName': 'New Jersey'}, 'avg': 2641.4285714285716},\n",
       " {'_id': {'StateProvinceName': 'Georgia'}, 'avg': 2631.6},\n",
       " {'_id': {'StateProvinceName': 'Missouri'}, 'avg': 2613.3333333333335},\n",
       " {'_id': {'StateProvinceName': 'Nebraska'}, 'avg': 2595.0},\n",
       " {'_id': {'StateProvinceName': 'West Virginia'}, 'avg': 2567.8571428571427},\n",
       " {'_id': {'StateProvinceName': 'Washington'}, 'avg': 2520.0},\n",
       " {'_id': {'StateProvinceName': 'Minnesota'}, 'avg': 2513.125},\n",
       " {'_id': {'StateProvinceName': 'Massachusetts[E]'}, 'avg': 2507.5},\n",
       " {'_id': {'StateProvinceName': 'North Dakota'}, 'avg': 2500.0},\n",
       " {'_id': {'StateProvinceName': 'Iowa'}, 'avg': 2481.6666666666665},\n",
       " {'_id': {'StateProvinceName': 'South Carolina'}, 'avg': 2479.1666666666665},\n",
       " {'_id': {'StateProvinceName': 'Mississippi'}, 'avg': 2400.0},\n",
       " {'_id': {'StateProvinceName': 'Maine'}, 'avg': 2400.0},\n",
       " {'_id': {'StateProvinceName': 'Kentucky'}, 'avg': 2374.0},\n",
       " {'_id': {'StateProvinceName': 'Louisiana'}, 'avg': 2372.0},\n",
       " {'_id': {'StateProvinceName': 'Illinois'}, 'avg': 2336.0},\n",
       " {'_id': {'StateProvinceName': 'Texas'}, 'avg': 2312.4444444444443},\n",
       " {'_id': {'StateProvinceName': 'Pennsylvania'}, 'avg': 2255.8333333333335},\n",
       " {'_id': {'StateProvinceName': 'Wisconsin'}, 'avg': 2133.3333333333335},\n",
       " {'_id': {'StateProvinceName': 'Colorado'}, 'avg': 2033.3333333333333},\n",
       " {'_id': {'StateProvinceName': 'Vermont'}, 'avg': 2000.0},\n",
       " {'_id': {'StateProvinceName': 'Alabama'}, 'avg': 1985.0},\n",
       " {'_id': {'StateProvinceName': 'Maryland'}, 'avg': 1750.0},\n",
       " {'_id': {'StateProvinceName': 'Montana'}, 'avg': 1666.6666666666667}]"
      ]
     },
     "execution_count": 5,
     "metadata": {},
     "output_type": "execute_result"
    }
   ],
   "source": [
    "notna = {'$match': {'CreditLimit': {'$ne' : np.nan}}}\n",
    "\n",
    "convert = { \"$addFields\": {\n",
    "        \"CreditLimit\": { \n",
    "            \"$convert\": { \n",
    "                \"input\": \"$CreditLimit\", \n",
    "                \"to\": \"int\" } } } }\n",
    "\n",
    "group={ '$group': {\n",
    "        '_id': {'StateProvinceName':'$DeliveryCity_Details.State_Province_Details.StateProvinceName'},\n",
    "        'avg': { '$avg': '$CreditLimit' }}}\n",
    "\n",
    "sort =  {'$sort': {'avg':-1}}\n",
    "\n",
    "pipeline = [notna,convert,group,sort]\n",
    "\n",
    "r = db.Sales_Customers.aggregate(pipeline)\n",
    "result = list(r)\n",
    "result"
   ]
  },
  {
   "cell_type": "markdown",
   "metadata": {},
   "source": [
    "## The warehouse group needs:"
   ]
  },
  {
   "cell_type": "markdown",
   "metadata": {},
   "source": [
    "#### To know which items get ordered together the most?"
   ]
  },
  {
   "cell_type": "code",
   "execution_count": null,
   "metadata": {},
   "outputs": [],
   "source": [
    "query_1 = {\n",
    "   '$lookup':\n",
    "     {\n",
    "       'from': 'Sales_OrderLines',\n",
    "       'localField': 'OrderID',\n",
    "       'foreignField': 'OrderID',\n",
    "       'as': 'description'\n",
    "     }\n",
    "}\n",
    "\n",
    "unwind = {'$unwind': '$description'}\n",
    "\n",
    "query_2={\n",
    "    '$group':{\n",
    "        '_id':{'item1':'$description.StockItemName', 'item2':'$description.StockItemName'},\n",
    "        'count':{'$sum':1}\n",
    "    },\n",
    "}\n",
    "\n",
    "query_3={\n",
    "    '$sort':{\n",
    "        'count':-1\n",
    "    }\n",
    "}\n",
    "\n",
    "query_4={\n",
    "    '$limit':5\n",
    "}\n",
    "\n",
    "pipeline=[query_1,unwind,query_2,query_3,query_4]\n",
    "\n",
    "r=db.Sales_OrderLines.aggregate(pipeline)\n",
    "\n",
    "result=list(r)\n",
    "result"
   ]
  },
  {
   "cell_type": "markdown",
   "metadata": {},
   "source": [
    "#### Which items get ordered the most in bulk (bigger amounts)?"
   ]
  },
  {
   "cell_type": "code",
   "execution_count": 6,
   "metadata": {},
   "outputs": [
    {
     "data": {
      "text/plain": [
       "[{'_id': {'id': 79, 'name': '\"The Gu\" red shirt XML tag t-shirt (White) S'},\n",
       "  'count': 26952},\n",
       " {'_id': {'id': 83, 'name': '\"The Gu\" red shirt XML tag t-shirt (White) XXL'},\n",
       "  'count': 26688},\n",
       " {'_id': {'id': 148, 'name': 'Halloween skull mask (Gray) L'}, 'count': 25104},\n",
       " {'_id': {'id': 76, 'name': '\"The Gu\" red shirt XML tag t-shirt (White) 3XS'},\n",
       "  'count': 24756},\n",
       " {'_id': {'id': 142, 'name': 'Halloween zombie mask (Light Brown) S'},\n",
       "  'count': 24744}]"
      ]
     },
     "execution_count": 6,
     "metadata": {},
     "output_type": "execute_result"
    }
   ],
   "source": [
    "query_1 = {\n",
    "   '$lookup':\n",
    "     {\n",
    "       'from': 'Warehouse_StockItems',\n",
    "       'localField': 'StockItemID',\n",
    "       'foreignField': 'StockItemID',\n",
    "       'as': 'description'\n",
    "     }\n",
    "}\n",
    "\n",
    "unwind = {'$unwind': '$description'}\n",
    "\n",
    "query_2={\n",
    "    '$group':{\n",
    "        '_id':{'id':'$description.StockItemID','name':'$description.StockItemName'},\n",
    "        'count':{'$sum':'$Quantity'}\n",
    "    },\n",
    "}\n",
    "\n",
    "\n",
    "query_3={\n",
    "    '$sort':{\n",
    "        'count':-1\n",
    "    }\n",
    "}\n",
    "\n",
    "query_4={\n",
    "    '$limit':5\n",
    "}\n",
    "\n",
    "pipeline=[query_1,unwind,query_2,query_3,query_4]\n",
    "\n",
    "r=db.Sales_OrderLines.aggregate(pipeline)\n",
    "\n",
    "result=list(r)\n",
    "result"
   ]
  },
  {
   "cell_type": "markdown",
   "metadata": {},
   "source": [
    "#### Which customers have delivery addresses under 10km of distance to the customer with customerID 961?"
   ]
  },
  {
   "cell_type": "code",
   "execution_count": 7,
   "metadata": {},
   "outputs": [],
   "source": [
    "r = db.Sales_Customers.find_one({'CustomerID':961})\n",
    "long961 = float(r['DeliveryLocationLong'])\n",
    "lat961 = float(r['DeliveryLocationLat'])"
   ]
  },
  {
   "cell_type": "code",
   "execution_count": 8,
   "metadata": {},
   "outputs": [
    {
     "name": "stderr",
     "output_type": "stream",
     "text": [
      "<ipython-input-8-a7f704b3639d>:2: DeprecationWarning: update is deprecated. Use replace_one, update_one or update_many instead.\n",
      "  db.Sales_Customers.update(\n"
     ]
    }
   ],
   "source": [
    "for document in db.Sales_Customers.find():\n",
    "    db.Sales_Customers.update(\n",
    "        {\"_id\":document[\"_id\"]},\n",
    "        {\"$set\": {\"PointDeliveryLocation\":\n",
    "                  { \"type\": \"Point\", \n",
    "                   \"coordinates\": [ float(document[\"DeliveryLocationLong\"]), float(document[\"DeliveryLocationLat\"])] \n",
    "                  }}})"
   ]
  },
  {
   "cell_type": "code",
   "execution_count": 9,
   "metadata": {},
   "outputs": [
    {
     "data": {
      "text/plain": [
       "{'_id': ObjectId('60b3d7e5781dea0108ea33f1'),\n",
       " 'AccountOpenedDate': '2013-01-01',\n",
       " 'AlternateContactPersonID': 1002.0,\n",
       " 'BillToCustomerID': 1,\n",
       " 'CreditLimit': nan,\n",
       " 'CustomerID': 1,\n",
       " 'CustomerName': 'Tailspin Toys (Head Office)',\n",
       " 'Customer_Category': {'CustomerCategoryID': 3,\n",
       "  'CustomerCategoryName': 'Novelty Shop'},\n",
       " 'Delivery': {'AddressLine1': 'Shop 38',\n",
       "  'AddressLine2': '1877 Mittal Road',\n",
       "  'PostalCode': 90410,\n",
       "  'Run': nan},\n",
       " 'DeliveryCity_Details': {'CityID': 19586,\n",
       "  'CityName': 'Lisco',\n",
       "  'LatestRecordedPopulation': None,\n",
       "  'Location': '0xE6100000010CE73F5A52A4BF444010638852B1A759C0',\n",
       "  'State_Province_Details': {'Country_Details': {'CountryID': 230,\n",
       "    'CountryName': 'United States',\n",
       "    'FormalName': 'United States of America',\n",
       "    'IsoAlpha3Code': 'USA',\n",
       "    'IsoNumericCode': 840,\n",
       "    'CountryType': 'UN Member State',\n",
       "    'LatestRecordedPopulation': 313973000,\n",
       "    'Continent': 'North America',\n",
       "    'Region': 'Americas',\n",
       "    'Subregion': 'Northern America'},\n",
       "   'LatestRecordedPopulation': 1943256,\n",
       "   'SalesTerritory': 'Plains',\n",
       "   'StateProvinceCode': 'NE',\n",
       "   'StateProvinceID': 28,\n",
       "   'StateProvinceName': 'Nebraska'}},\n",
       " 'DeliveryLocationLat': 41.4972,\n",
       " 'DeliveryLocationLong': -102.62,\n",
       " 'Delivery_Method': [{'DeliveryMethodID': 3,\n",
       "   'DeliveryMethodName': 'Delivery Van'}],\n",
       " 'FaxNumber': '(308) 555-0101',\n",
       " 'IsOnCreditHold': 0,\n",
       " 'IsStatementSent': 0,\n",
       " 'PaymentDays': 7,\n",
       " 'PhoneNumber': '(308) 555-0100',\n",
       " 'Postal': {'AddressLine1': 'PO Box 8975',\n",
       "  'AddressLine2': 'Ribeiroville',\n",
       "  'PostalCode': 90410},\n",
       " 'PostalCity_Details': {'CityID': 19586,\n",
       "  'CityName': 'Lisco',\n",
       "  'LatestRecordedPopulation': None,\n",
       "  'Location': '0xE6100000010CE73F5A52A4BF444010638852B1A759C0',\n",
       "  'State_Province_Details': {'Country_Details': {'CountryID': 230,\n",
       "    'CountryName': 'United States',\n",
       "    'FormalName': 'United States of America',\n",
       "    'IsoAlpha3Code': 'USA',\n",
       "    'IsoNumericCode': 840,\n",
       "    'CountryType': 'UN Member State',\n",
       "    'LatestRecordedPopulation': 313973000,\n",
       "    'Continent': 'North America',\n",
       "    'Region': 'Americas',\n",
       "    'Subregion': 'Northern America'},\n",
       "   'LatestRecordedPopulation': 1943256,\n",
       "   'SalesTerritory': 'Plains',\n",
       "   'StateProvinceCode': 'NE',\n",
       "   'StateProvinceID': 28,\n",
       "   'StateProvinceName': 'Nebraska'}},\n",
       " 'PrimaryContactPersonID': 1001,\n",
       " 'RunPosition': nan,\n",
       " 'StandardDiscountPercentage': 0.0,\n",
       " 'WebsiteURL': 'http://www.tailspintoys.com',\n",
       " 'PointDeliveryLocation': {'type': 'Point', 'coordinates': [-102.62, 41.4972]}}"
      ]
     },
     "execution_count": 9,
     "metadata": {},
     "output_type": "execute_result"
    }
   ],
   "source": [
    "list(db.Sales_Customers.find())[0]"
   ]
  },
  {
   "cell_type": "code",
   "execution_count": 10,
   "metadata": {},
   "outputs": [
    {
     "data": {
      "text/plain": [
       "'PointDeliveryLocation_2dsphere'"
      ]
     },
     "execution_count": 10,
     "metadata": {},
     "output_type": "execute_result"
    }
   ],
   "source": [
    "db.Sales_Customers.create_index([(\"PointDeliveryLocation\", GEOSPHERE)])"
   ]
  },
  {
   "cell_type": "code",
   "execution_count": 11,
   "metadata": {},
   "outputs": [
    {
     "data": {
      "text/plain": [
       "[{'_id': ObjectId('60b3d7e5781dea0108ea35b6'),\n",
       "  'CustomerID': 835,\n",
       "  'CustomerName': 'Dominic Davignon',\n",
       "  'Distancefrom961': 2846.882560911145},\n",
       " {'_id': ObjectId('60b3d7e5781dea0108ea3462'),\n",
       "  'CustomerID': 846,\n",
       "  'CustomerName': 'Malorie Bousquet',\n",
       "  'Distancefrom961': 4178.770457915538}]"
      ]
     },
     "execution_count": 11,
     "metadata": {},
     "output_type": "execute_result"
    }
   ],
   "source": [
    "query_1 = {\n",
    "    \"$geoNear\": {\n",
    "        \"near\": { \"type\": \"Point\", \"coordinates\": [long961,lat961] },\n",
    "        \"distanceField\": \"Distancefrom961\",\n",
    "        \"spherical\": \"true\",\n",
    "        \"maxDistance\": 10000,\n",
    "        \"key\": \"PointDeliveryLocation\"\n",
    "    }\n",
    "}\n",
    " \n",
    "query_2 = {\n",
    "    \"$project\": {\n",
    "        \"CustomerID\":1,\n",
    "        \"CustomerName\":1,\n",
    "        \"Distancefrom961\":1\n",
    "    }\n",
    "}\n",
    "\n",
    "query_3 = {\n",
    "    \"$sort\": {\n",
    "        \"Distancefrom961\": 1\n",
    "    }\n",
    "}\n",
    "\n",
    "query_4 = {\n",
    "    \"$skip\": 1\n",
    "}\n",
    "\n",
    "pipeline = [query_1,query_2,query_3,query_4]\n",
    " \n",
    "r = db.Sales_Customers.aggregate(pipeline)\n",
    "result = list(r)\n",
    "result"
   ]
  },
  {
   "cell_type": "markdown",
   "metadata": {},
   "source": [
    "## The CFO:"
   ]
  },
  {
   "cell_type": "markdown",
   "metadata": {},
   "source": [
    "#### Would like to know the monthly order count?"
   ]
  },
  {
   "cell_type": "code",
   "execution_count": 12,
   "metadata": {},
   "outputs": [
    {
     "data": {
      "text/plain": [
       "[{'_id': {'year': 2013, 'month': 1}, 'count': 1674},\n",
       " {'_id': {'year': 2013, 'month': 2}, 'count': 1139},\n",
       " {'_id': {'year': 2013, 'month': 3}, 'count': 1683},\n",
       " {'_id': {'year': 2013, 'month': 4}, 'count': 1696},\n",
       " {'_id': {'year': 2013, 'month': 5}, 'count': 1808},\n",
       " {'_id': {'year': 2013, 'month': 6}, 'count': 1675},\n",
       " {'_id': {'year': 2013, 'month': 7}, 'count': 1886},\n",
       " {'_id': {'year': 2013, 'month': 8}, 'count': 1537},\n",
       " {'_id': {'year': 2013, 'month': 9}, 'count': 1617},\n",
       " {'_id': {'year': 2013, 'month': 10}, 'count': 1618},\n",
       " {'_id': {'year': 2013, 'month': 11}, 'count': 1552},\n",
       " {'_id': {'year': 2013, 'month': 12}, 'count': 1565},\n",
       " {'_id': {'year': 2014, 'month': 1}, 'count': 1791},\n",
       " {'_id': {'year': 2014, 'month': 2}, 'count': 1538},\n",
       " {'_id': {'year': 2014, 'month': 3}, 'count': 1586},\n",
       " {'_id': {'year': 2014, 'month': 4}, 'count': 1739},\n",
       " {'_id': {'year': 2014, 'month': 5}, 'count': 1908},\n",
       " {'_id': {'year': 2014, 'month': 6}, 'count': 1887},\n",
       " {'_id': {'year': 2014, 'month': 7}, 'count': 2008},\n",
       " {'_id': {'year': 2014, 'month': 8}, 'count': 1642},\n",
       " {'_id': {'year': 2014, 'month': 9}, 'count': 1637},\n",
       " {'_id': {'year': 2014, 'month': 10}, 'count': 1921},\n",
       " {'_id': {'year': 2014, 'month': 11}, 'count': 1628},\n",
       " {'_id': {'year': 2014, 'month': 12}, 'count': 1914},\n",
       " {'_id': {'year': 2015, 'month': 1}, 'count': 1830},\n",
       " {'_id': {'year': 2015, 'month': 2}, 'count': 1732},\n",
       " {'_id': {'year': 2015, 'month': 3}, 'count': 1891},\n",
       " {'_id': {'year': 2015, 'month': 4}, 'count': 2111},\n",
       " {'_id': {'year': 2015, 'month': 5}, 'count': 1959},\n",
       " {'_id': {'year': 2015, 'month': 6}, 'count': 1989},\n",
       " {'_id': {'year': 2015, 'month': 7}, 'count': 2273},\n",
       " {'_id': {'year': 2015, 'month': 8}, 'count': 1729},\n",
       " {'_id': {'year': 2015, 'month': 9}, 'count': 2065},\n",
       " {'_id': {'year': 2015, 'month': 10}, 'count': 1965},\n",
       " {'_id': {'year': 2015, 'month': 11}, 'count': 1834},\n",
       " {'_id': {'year': 2015, 'month': 12}, 'count': 1951},\n",
       " {'_id': {'year': 2016, 'month': 1}, 'count': 1944},\n",
       " {'_id': {'year': 2016, 'month': 2}, 'count': 1706},\n",
       " {'_id': {'year': 2016, 'month': 3}, 'count': 1969},\n",
       " {'_id': {'year': 2016, 'month': 4}, 'count': 1951},\n",
       " {'_id': {'year': 2016, 'month': 5}, 'count': 2047}]"
      ]
     },
     "execution_count": 12,
     "metadata": {},
     "output_type": "execute_result"
    }
   ],
   "source": [
    "convert = { \"$addFields\": {\n",
    "        \"OrderDate\": { \n",
    "            \"$convert\": { \n",
    "                \"input\": \"$OrderDate\", \n",
    "                \"to\": \"date\" } } } }\n",
    "\n",
    "project = {\n",
    "      '$addFields':\n",
    "        { 'year_orderdate': { '$year': \"$OrderDate\" },\n",
    "          'month_orderdate': { '$month': \"$OrderDate\" }}}\n",
    "\n",
    "group={ '$group': {\n",
    "        '_id': {'year':'$year_orderdate','month':'$month_orderdate'},\n",
    "        'count': { '$sum': 1 }}}\n",
    "\n",
    "sort =  {'$sort': {'_id.year':1,'_id.month':1}}\n",
    "\n",
    "pipeline = [convert,project,group,sort]\n",
    "\n",
    "r = db.Sales_Orders.aggregate(pipeline)\n",
    "result = list(r)\n",
    "result"
   ]
  },
  {
   "cell_type": "markdown",
   "metadata": {},
   "source": [
    "#### Would like to know the average monthly sales prices?\n"
   ]
  },
  {
   "cell_type": "code",
   "execution_count": null,
   "metadata": {},
   "outputs": [],
   "source": [
    "convert = { \"$addFields\": {\n",
    "        \"OrderDate\": { \n",
    "            \"$convert\": { \n",
    "                \"input\": \"$OrderDate\", \n",
    "                \"to\": \"date\"}}}}\n",
    "\n",
    "project = {'$addFields':\n",
    "        { 'year_orderdate': { '$year': \"$OrderDate\" },\n",
    "          'month_orderdate': { '$month': \"$OrderDate\" }}}\n",
    "\n",
    "lookup = {'$lookup':{\n",
    "       'from': 'Sales_OrderLines',\n",
    "       'localField': 'OrderLineID',\n",
    "       'foreignField': 'OrderID',\n",
    "       'as': 'Lines'}}\n",
    "\n",
    "unwind = {'$unwind': '$Lines'}\n",
    "\n",
    "group={'$group':{\n",
    "        '_id':{'name':'$Lines.TotalItemPrice','year':'$year_orderdate','month':'$month_orderdate'},\n",
    "        'avg':{'$avg':'$Lines.TotalItemPrice'}}}\n",
    "\n",
    "sort={'$sort':{\n",
    "      'avg':-1}}\n",
    "\n",
    "pipeline=[convert,project,lookup,unwind,group,sort]\n",
    "r=db.Sales_Orders.aggregate(pipeline)\n",
    "result=list(r)"
   ]
  },
  {
   "cell_type": "markdown",
   "metadata": {},
   "source": [
    "#### Would like to know the yearly expenditures with suppliers (per supplier name)?"
   ]
  },
  {
   "cell_type": "code",
   "execution_count": 13,
   "metadata": {},
   "outputs": [
    {
     "data": {
      "text/plain": [
       "[{'_id': {'transaction_year': 2016, 'name': 'A Datum Corporation'},\n",
       "  'sum': 27525.3},\n",
       " {'_id': {'transaction_year': 2013, 'name': 'Contoso, Ltd.'}, 'sum': 360.53},\n",
       " {'_id': {'transaction_year': 2013, 'name': 'Fabrikam, Inc.'},\n",
       "  'sum': 60480866.71},\n",
       " {'_id': {'transaction_year': 2015, 'name': 'Fabrikam, Inc.'},\n",
       "  'sum': 339016809.9},\n",
       " {'_id': {'transaction_year': 2016, 'name': 'Fabrikam, Inc.'},\n",
       "  'sum': 188005969.8},\n",
       " {'_id': {'transaction_year': 2014, 'name': 'Fabrikam, Inc.'},\n",
       "  'sum': 192272508.9},\n",
       " {'_id': {'transaction_year': 2013, 'name': 'Graphic Design Institute'},\n",
       "  'sum': 7462.45},\n",
       " {'_id': {'transaction_year': 2013, 'name': 'Litware, Inc.'},\n",
       "  'sum': 9790895.67},\n",
       " {'_id': {'transaction_year': 2015, 'name': 'Litware, Inc.'},\n",
       "  'sum': 145851271.21},\n",
       " {'_id': {'transaction_year': 2014, 'name': 'Litware, Inc.'},\n",
       "  'sum': 66462358.23},\n",
       " {'_id': {'transaction_year': 2016, 'name': 'Litware, Inc.'},\n",
       "  'sum': 83928402.35},\n",
       " {'_id': {'transaction_year': 2013, 'name': 'Northwind Electric Cars'},\n",
       "  'sum': 90639.0},\n",
       " {'_id': {'transaction_year': 2013, 'name': 'The Phone Company'},\n",
       "  'sum': 58443.01}]"
      ]
     },
     "execution_count": 13,
     "metadata": {},
     "output_type": "execute_result"
    }
   ],
   "source": [
    "convert = { \"$addFields\": {\n",
    "        \"TransactionDate\": { \n",
    "            \"$convert\": { \n",
    "                \"input\": \"$TransactionDate\", \n",
    "                \"to\": \"date\"}}}}\n",
    "\n",
    "addfields = {'$addFields':\n",
    "        { 'transaction_year': { '$year': \"$TransactionDate\" }}}\n",
    "\n",
    "notna = {'$match': {'SupplierInvoiceNumber': {'$ne' : np.nan}}}\n",
    "\n",
    "lookup = {'$lookup':{\n",
    "       'from': 'Purchasing_Suppliers',\n",
    "       'localField': 'SupplierID',\n",
    "       'foreignField': 'SupplierID',\n",
    "       'as': 'Purchasing'}}\n",
    "\n",
    "unwind = {'$unwind': '$Purchasing'}\n",
    "   \n",
    "    \n",
    "    \n",
    "project = {\"$project\": {\n",
    "        \"transaction_year\":1,\n",
    "        \"Purchasing.SupplierName\":1,\n",
    "        \"TransactionAmount\":1,\n",
    "    \"TransactionID\":1\n",
    "    }\n",
    "}\n",
    "\n",
    "group={'$group':{\n",
    "        '_id':{'transaction_year':'$transaction_year','name':'$Purchasing.SupplierName'},\n",
    "        'sum':{'$sum':'$TransactionAmount'}}}\n",
    "\n",
    "sort =  {'$sort': {'_id.name':1}}\n",
    "\n",
    "pipeline=[convert,addfields,notna,lookup,unwind,project,group,sort]\n",
    "\n",
    "r_3=db.Purchasing_SupplierTransactions.aggregate(pipeline)\n",
    "result=list(r_3)\n",
    "result"
   ]
  },
  {
   "cell_type": "markdown",
   "metadata": {},
   "source": [
    "## Partnerships:"
   ]
  },
  {
   "cell_type": "markdown",
   "metadata": {},
   "source": [
    "#### Would like to know what's the most common payment type?"
   ]
  },
  {
   "cell_type": "code",
   "execution_count": 14,
   "metadata": {},
   "outputs": [
    {
     "data": {
      "text/plain": [
       "[{'_id': {'id': 4, 'name': 'EFT'}, 'count': 16447}]"
      ]
     },
     "execution_count": 14,
     "metadata": {},
     "output_type": "execute_result"
    }
   ],
   "source": [
    "unwind = {'$unwind': '$Payment_Method'}\n",
    "\n",
    "groupby = { \"$group\": { \"_id\": {'id':\"$Payment_Method.PaymentMethodID\", 'name': \"$Payment_Method.PaymentMethodName\"}, \"count\": { \"$sum\": 1 } } }\n",
    "\n",
    "notna = {'$match': { 'count': {'$ne' : None} }}\n",
    "\n",
    "sortdes = { \"$sort\": { \"count\": -1 }}\n",
    "\n",
    "limit = { '$limit': 1}\n",
    "\n",
    "pipeline = [unwind, groupby, notna, sortdes, limit]\n",
    "\n",
    "r = db.Transactions.aggregate(pipeline)\n",
    "           \n",
    "list(r)"
   ]
  },
  {
   "cell_type": "markdown",
   "metadata": {},
   "source": [
    "#### Which supplier of Novelty Goods Supplier as the most transactions?\n"
   ]
  },
  {
   "cell_type": "code",
   "execution_count": 15,
   "metadata": {},
   "outputs": [
    {
     "data": {
      "text/plain": [
       "[{'_id': 'Graphic Design Institute', 'count': 16}]"
      ]
     },
     "execution_count": 15,
     "metadata": {},
     "output_type": "execute_result"
    }
   ],
   "source": [
    "lookup = {'$lookup': { 'from': \"Purchasing_Suppliers\",\n",
    "        'localField': \"SupplierID\",\n",
    "        'foreignField': \"SupplierID\",\n",
    "        'as': \"sup_info\"\n",
    "    }}\n",
    "\n",
    "unwind = {'$unwind': '$sup_info'}\n",
    "\n",
    "owwwant_query = {\n",
    "    '$project':{\n",
    "        \"_id\": 0,\n",
    "        \"sup_info.Supplier_Category.SupplierCategoryName\": 1,\n",
    "        \"sup_info.SupplierName\":1,\n",
    "        \"SupplierTransactionID\":1\n",
    "    }\n",
    "}\n",
    "\n",
    "match = {'$match': { 'sup_info.Supplier_Category.SupplierCategoryName': {'$eq' : 'Novelty Goods Supplier'} }}\n",
    "\n",
    "groupby = { \"$group\": { \"_id\": \"$sup_info.SupplierName\", \"count\": { \"$sum\": 1 } } }\n",
    "\n",
    "sortdes = { \"$sort\": { \"count\": -1 }}\n",
    "\n",
    "limit = { '$limit': 1}\n",
    "\n",
    "pipeline = [lookup, unwind, owwwant_query,match, groupby, sortdes, limit]\n",
    "\n",
    "r = db.Purchasing_SupplierTransactions.aggregate(pipeline)\n",
    "           \n",
    "list(r)"
   ]
  },
  {
   "cell_type": "markdown",
   "metadata": {},
   "source": [
    "## The marketing team:\n"
   ]
  },
  {
   "cell_type": "markdown",
   "metadata": {},
   "source": [
    "#### Want to make an appreciation post and needs the name of the sales person with the most invoices in 2013 (person who's customers brought the most money)?"
   ]
  },
  {
   "cell_type": "code",
   "execution_count": null,
   "metadata": {},
   "outputs": [],
   "source": [
    "groupinv = { \"$group\": { \"_id\": \"$InvoiceID\", \"TotalInv\": { \"$sum\": '$TotalItemPrice' } } }\n",
    "\n",
    "project = {'$project': {'_id':1,\n",
    "                       'TotalInv': 1}}\n",
    "\n",
    "looktoinv = {'$lookup': { 'from': \"Sales_Invoices\",\n",
    "        'localField': \"_id\",\n",
    "        'foreignField': \"InvoiceID\",\n",
    "        'as': \"invoice_info\"\n",
    "    }}\n",
    "\n",
    "unwind ={\"$unwind\":\"$invoice_info\"}\n",
    "\n",
    "project2 = {'$project': {'_id':0,\n",
    "                       'invoice_info.InvoiceID': 1,\n",
    "                        'invoice_info.SalespersonPersonID':1,\n",
    "                        'TotalInv':1,\n",
    "                        'invoice_info.InvoiceDate':1}}\n",
    "\n",
    "convert = { \"$addFields\": {\n",
    "    \"InvDate\": { \"$convert\": { \n",
    "                \"input\": \"$invoice_info.InvoiceDate\", \n",
    "                \"to\": \"date\"}}}}\n",
    "\n",
    "addf = { \"$addFields\": {'year' : { '$year' : '$InvDate'}}}\n",
    "\n",
    "match = {'$match': {'year': {'$eq' : 2013}}}\n",
    "\n",
    "group_person = {'$group':{\n",
    "    \"_id\": \"$invoice_info.SalespersonPersonID\",\n",
    "    \"TotalInvoices\": { \"$addToSet\":\"$TotalInv\" }\n",
    "}}\n",
    "\n",
    "project3 = {'$project': { '_id': 0,\n",
    "                         \"invoice_info.SalespersonPersonID\":1,\n",
    "                        \"MoneyPerson\": { '$sum': \"$TotalInv\" }}}\n",
    "\n",
    "sortdesc = {'$sort': {'MoneyPerson':-1}}\n",
    "\n",
    "limit ={\"$limit\":1}\n",
    "\n",
    "looktopers = {'$lookup': { 'from': \"Project_WWI_Application_People\",\n",
    "        'localField': \"invoice_info.SalespersonPersonID\",\n",
    "        'foreignField': \"PersonID\",\n",
    "        'as': \"person_info\"\n",
    "    }}\n",
    "\n",
    "unwind2 = {\"$unwind\":\"$person_info\"}\n",
    "\n",
    "finproj = {'$project': { '_id': 0,\n",
    "                         'PersonName': \"$person_info.FullName\",\n",
    "                        \"MoneyPerson\":1}}\n",
    "\n",
    "\n",
    "pipeline = [groupinv,project, looktoinv,unwind,project2,convert,addf, match,group_person, project3,\n",
    "                                      sortdesc, limit, looktopers,unwind2,finproj]\n",
    "\n",
    "r = db.Sales_InvoiceLines.aggregate(pipeline)\n",
    "           \n",
    "list(r)"
   ]
  }
 ],
 "metadata": {
  "kernelspec": {
   "display_name": "Python 3",
   "language": "python",
   "name": "python3"
  },
  "language_info": {
   "codemirror_mode": {
    "name": "ipython",
    "version": 3
   },
   "file_extension": ".py",
   "mimetype": "text/x-python",
   "name": "python",
   "nbconvert_exporter": "python",
   "pygments_lexer": "ipython3",
   "version": "3.8.3"
  }
 },
 "nbformat": 4,
 "nbformat_minor": 4
}
